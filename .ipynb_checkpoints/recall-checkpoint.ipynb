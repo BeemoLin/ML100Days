{
 "cells": [
  {
   "cell_type": "code",
   "execution_count": 130,
   "metadata": {},
   "outputs": [
    {
     "name": "stdout",
     "output_type": "stream",
     "text": [
      "x= [0.         0.02637444 0.04867625 0.06799655 0.08503934]\n",
      "x= [0.99988423 0.99991318 0.99994213 0.99997107 1.        ]\n",
      "y= [1.         0.99997107 0.99994213 0.99991318 0.99988423]\n",
      "y= [0.08503934 0.06799655 0.04867625 0.02637444 0.        ]\n"
     ]
    },
    {
     "data": {
      "image/png": "[encoded data removed]",
      "text/plain": [
       "<Figure size 432x288 with 1 Axes>"
      ]
     },
     "metadata": {
      "needs_background": "light"
     },
     "output_type": "display_data"
    }
   ],
   "source": [
    "import matplotlib.pyplot as plt\n",
    "import numpy as np\n",
    "import pandas as pd\n",
    "x = np.linspace(1, 1000, 1000)\n",
    "y = np.linspace(1000, 1, 1000)\n",
    "\n",
    "x = np.log(x) / np.log(1000)\n",
    "print(\"x=\", x[:5])\n",
    "print(\"x=\", x[-5:])\n",
    "\n",
    "y = np.log(y) / np.log(1000)\n",
    "print(\"y=\", y[:5])\n",
    "print(\"y=\", y[-5:])\n",
    "plt.plot(x, y, 'o')\n",
    "plt.show()\n",
    "\n",
    "df_x = pd.DataFrame(x)\n",
    "df_y = pd.DataFrame(y)\n",
    "\n",
    "df = pd.concat([df_x, df_y], axis=1)\n",
    "df.columns = [\"recall\", \"precision\"]\n",
    "df.head()\n",
    "\n",
    "df.to_csv(\"recall.csv\")"
   ]
  }
 ],
 "metadata": {
  "kernelspec": {
   "display_name": "Python 3",
   "language": "python",
   "name": "python3"
  },
  "language_info": {
   "codemirror_mode": {
    "name": "ipython",
    "version": 3
   },
   "file_extension": ".py",
   "mimetype": "text/x-python",
   "name": "python",
   "nbconvert_exporter": "python",
   "pygments_lexer": "ipython3",
   "version": "3.7.3"
  }
 },
 "nbformat": 4,
 "nbformat_minor": 2
}
