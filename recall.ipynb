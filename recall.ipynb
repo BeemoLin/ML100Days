{
 "cells": [
  {
   "cell_type": "code",
   "execution_count": 14,
   "metadata": {},
   "outputs": [
    {
     "name": "stdout",
     "output_type": "stream",
     "text": [
      "x= [0.         0.10034333 0.15904042 0.20068666 0.23299   ]\n",
      "x= [0.99941978 0.99956505 0.99971018 0.99985516 1.        ]\n",
      "y= [1.         0.99985516 0.99971018 0.99956505 0.99941978]\n",
      "y= [0.23299    0.20068666 0.15904042 0.10034333 0.        ]\n"
     ]
    },
    {
     "data": {
      "image/png": "[encoded data removed]",
      "text/plain": [
       "<Figure size 432x288 with 1 Axes>"
      ]
     },
     "metadata": {
      "needs_background": "light"
     },
     "output_type": "display_data"
    }
   ],
   "source": [
    "import matplotlib.pyplot as plt\n",
    "import numpy as np\n",
    "import pandas as pd\n",
    "\n",
    "y = np.linspace(1000, 1, 1000)\n",
    "y = np.log(y) / np.log(1000)\n",
    "\n",
    "x050 = np.linspace(1, 1000, 1000)\n",
    "x050 = np.log(x050) / np.log(1000)\n",
    "\n",
    "\n",
    "x055 = x050 - 0.01\n",
    "x060 = x050 - 0.02\n",
    "x065 = x050 - 0.08\n",
    "x070 = x050 - 0.15\n",
    "x075 = x050 - 0.3\n",
    "x080 = x050 - 0.5\n",
    "x085 = x050 - 0.7\n",
    "x090 = x050 - 0.8\n",
    "x090 = np.log1p(x090) / np.log(10)\n",
    "x095 = x050 - 0.85\n",
    "x095 = np.log1p(x095) / np.log(100)\n",
    "# x055 = [(lambda x: x if x > 0.0 else -1.0)(x - 0.01) for x in x050]\n",
    "# x060 = [(lambda x: x if x > 0.0 else -1.0)(x - 0.02) for x in x050]\n",
    "# x065 = [(lambda x: x if x > 0.0 else -1.0)(x - 0.08) for x in x050]\n",
    "# x070 = [(lambda x: x if x > 0.0 else -1.0)(x - 0.12) for x in x050]\n",
    "# x075 = [(lambda x: x if x > 0.0 else -1.0)(x - 0.3) for x in x050]\n",
    "# x080 = [(lambda x: x if x > 0.0 else -1.0)(x - 0.45) for x in x050]\n",
    "# x085 = [(lambda x: x if x > 0.0 else -1.0)(x - 0.6) for x in x050]\n",
    "# x090 = [(lambda x: x if x > 0.0 else -1.0)(x - 0.7) for x in x050]\n",
    "# x095 = [(lambda x: x if x > 0.0 else -1.0)(x - 0.8) for x in x050]\n",
    "print(\"x=\", x050[:5])\n",
    "print(\"x=\", x050[-5:])\n",
    "\n",
    "\n",
    "print(\"y=\", y[:5])\n",
    "print(\"y=\", y[-5:])\n",
    "plt.xlim((0, 1.2))\n",
    "plt.plot(x050, y, 'o')\n",
    "plt.plot(x055, y, 'o')\n",
    "plt.plot(x060, y, 'o')\n",
    "plt.plot(x065, y, 'o')\n",
    "plt.plot(x070, y, 'o')\n",
    "plt.plot(x075, y, 'o')\n",
    "plt.plot(x080, y, 'o')\n",
    "plt.plot(x085, y, 'o')\n",
    "plt.plot(x090, y, 'o')\n",
    "plt.plot(x095, y, 'o')\n",
    "\n",
    "plt.show()\n",
    "\n",
    "df_y = pd.DataFrame(y)\n",
    "\n",
    "df_x050 = pd.DataFrame(x050)\n",
    "df050 = pd.concat([df_x050, df_y], axis=1)\n",
    "df050.columns = [\"recall\", \"precision\"]\n",
    "df050.to_csv(\"recall050.csv\")\n",
    "\n",
    "df_x055 = pd.DataFrame(x055)\n",
    "df055 = pd.concat([df_x055, df_y], axis=1)\n",
    "df055.columns = [\"recall\", \"precision\"]\n",
    "df055.to_csv(\"recall055.csv\")\n",
    "\n",
    "df_x060 = pd.DataFrame(x060)\n",
    "df060 = pd.concat([df_x060, df_y], axis=1)\n",
    "df060.columns = [\"recall\", \"precision\"]\n",
    "df060.to_csv(\"recall060.csv\")\n",
    "\n",
    "df_x065 = pd.DataFrame(x065)\n",
    "df065 = pd.concat([df_x065, df_y], axis=1)\n",
    "df065.columns = [\"recall\", \"precision\"]\n",
    "df065.to_csv(\"recall065.csv\")\n",
    "\n",
    "df_x070 = pd.DataFrame(x070)\n",
    "df070 = pd.concat([df_x070, df_y], axis=1)\n",
    "df070.columns = [\"recall\", \"precision\"]\n",
    "df070.to_csv(\"recall070.csv\")\n",
    "\n",
    "df_x075 = pd.DataFrame(x075)\n",
    "df075 = pd.concat([df_x075, df_y], axis=1)\n",
    "df075.columns = [\"recall\", \"precision\"]\n",
    "df075.to_csv(\"recall075.csv\")\n",
    "\n",
    "df_x080 = pd.DataFrame(x080)\n",
    "df080 = pd.concat([df_x080, df_y], axis=1)\n",
    "df080.columns = [\"recall\", \"precision\"]\n",
    "df080.to_csv(\"recall080.csv\")\n",
    "\n",
    "df_x085 = pd.DataFrame(x085)\n",
    "df085 = pd.concat([df_x085, df_y], axis=1)\n",
    "df085.columns = [\"recall\", \"precision\"]\n",
    "df085.to_csv(\"recall085.csv\")\n",
    "\n",
    "df_x090 = pd.DataFrame(x090)\n",
    "df090 = pd.concat([df_x090, df_y], axis=1)\n",
    "df090.columns = [\"recall\", \"precision\"]\n",
    "df090.to_csv(\"recall090.csv\")\n",
    "\n",
    "df_x095 = pd.DataFrame(x095)\n",
    "df095 = pd.concat([df_x095, df_y], axis=1)\n",
    "df095.columns = [\"recall\", \"precision\"]\n",
    "df095.to_csv(\"recall095.csv\")"
   ]
  }
 ],
 "metadata": {
  "kernelspec": {
   "display_name": "Python 3",
   "language": "python",
   "name": "python3"
  },
  "language_info": {
   "codemirror_mode": {
    "name": "ipython",
    "version": 3
   },
   "file_extension": ".py",
   "mimetype": "text/x-python",
   "name": "python",
   "nbconvert_exporter": "python",
   "pygments_lexer": "ipython3",
   "version": "3.7.3"
  }
 },
 "nbformat": 4,
 "nbformat_minor": 2
}
