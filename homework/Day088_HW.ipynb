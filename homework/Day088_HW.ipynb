{
 "cells": [
  {
   "cell_type": "markdown",
   "metadata": {},
   "source": [
    "## Work\n",
    "1. 請嘗試寫一個 callback 用來記錄各類別在訓練過程中，對驗證集的 True Positive 與 True Negative"
   ]
  },
  {
   "cell_type": "code",
   "execution_count": 1,
   "metadata": {},
   "outputs": [
    {
     "name": "stderr",
     "output_type": "stream",
     "text": [
      "Using TensorFlow backend.\n"
     ]
    }
   ],
   "source": [
    "import os\n",
    "import keras\n",
    "\n",
    "# Disable GPU\n",
    "os.environ[\"CUDA_VISIBLE_DEVICES\"] = \"\""
   ]
  },
  {
   "cell_type": "code",
   "execution_count": 2,
   "metadata": {},
   "outputs": [],
   "source": [
    "train, test = keras.datasets.cifar10.load_data()"
   ]
  },
  {
   "cell_type": "code",
   "execution_count": 3,
   "metadata": {},
   "outputs": [],
   "source": [
    "## 資料前處理\n",
    "def preproc_x(x, flatten=True):\n",
    "    x = x / 255.\n",
    "    if flatten:\n",
    "        x = x.reshape((len(x), -1))\n",
    "    return x\n",
    "\n",
    "def preproc_y(y, num_classes=10):\n",
    "    if y.shape[-1] == 1:\n",
    "        y = keras.utils.to_categorical(y, num_classes)\n",
    "    return y    "
   ]
  },
  {
   "cell_type": "code",
   "execution_count": 4,
   "metadata": {},
   "outputs": [],
   "source": [
    "x_train, y_train = train\n",
    "x_test, y_test = test\n",
    "\n",
    "# Preproc the inputs\n",
    "x_train = preproc_x(x_train)\n",
    "x_test = preproc_x(x_test)\n",
    "\n",
    "# Preprc the outputs\n",
    "y_train = preproc_y(y_train)\n",
    "y_test = preproc_y(y_test)"
   ]
  },
  {
   "cell_type": "code",
   "execution_count": 5,
   "metadata": {},
   "outputs": [],
   "source": [
    "from keras.layers import BatchNormalization\n",
    "\n",
    "\"\"\"\n",
    "建立神經網路，並加入 BN layer\n",
    "\"\"\"\n",
    "def build_mlp(input_shape, output_units=10, num_neurons=[256, 256, 256]):\n",
    "    input_layer = keras.layers.Input(input_shape)\n",
    "    \n",
    "    for i, n_units in enumerate(num_neurons):\n",
    "        if i == 0:\n",
    "            x = keras.layers.Dense(units=n_units,\n",
    "                                  activation=\"relu\",\n",
    "                                  name=\"hidden_layer\" + str(i + 1))(input_layer)\n",
    "            x = BatchNormalization()(x)\n",
    "        else:\n",
    "            x = keras.layers.Dense(units=n_units,\n",
    "                                  activation=\"relu\",\n",
    "                                  name=\"hidden_layer\" + str(i + 1))(x)\n",
    "            x = BatchNormalization()(x)\n",
    "            \n",
    "    out = keras.layers.Dense(units=output_units, activation=\"softmax\", name=\"output\")(x)\n",
    "    model = keras.models.Model(inputs=[input_layer], outputs=[out])\n",
    "    return model"
   ]
  },
  {
   "cell_type": "code",
   "execution_count": 6,
   "metadata": {},
   "outputs": [],
   "source": [
    "## 超參數設定\n",
    "LEARNING_RATE = 1e-3\n",
    "EPOCHS = 25\n",
    "BATCH_SIZE = 1024\n",
    "MOMENTUM = 0.95"
   ]
  },
  {
   "cell_type": "code",
   "execution_count": 7,
   "metadata": {},
   "outputs": [],
   "source": [
    "# 載入 Callbacks\n",
    "from keras.callbacks import Callback\n",
    "import numpy as np\n",
    "# from sklearn.metrics import confusion_matrix\n",
    "\n",
    "\"\"\"\n",
    "confusion_matrix\n",
    "# y_true = [\"cat\", \"ant\", \"cat\", \"cat\", \"ant\", \"bird\"]\n",
    "# y_pred = [\"ant\", \"ant\", \"cat\", \"cat\", \"ant\", \"cat\"]\n",
    "# tn, fp, fn, tp = confusion_matrix(y_true, y_pred, labels=[\"ant\", \"bird\", \"cat\"]).ravel()\n",
    "\n",
    "# or\n",
    "# tp = sum(y_true*y_pred)\n",
    "# tn = sum((y_true==0) & (y_pred==0))\n",
    "\"\"\"\n",
    "\n",
    "# Record_fp_tp\n",
    "class Record_tp_tn(Callback):\n",
    "    \"\"\"Code Here\n",
    "    撰寫一個紀錄 ture positive 與 true negative 數量的 callbacks    \n",
    "    \"\"\"\n",
    "    def on_train_begin(self, epoch, logs = {}):\n",
    "        logs = logs or {}\n",
    "        record_items = [\"val_auc\", \"val_f1sc\", \"val_fp\", \"val_fn\", \"val_tp\", \"val_tn\"]\n",
    "        for i in record_items:\n",
    "            if i not in self.params['metrics']:\n",
    "                self.params['metrics'].append(i)\n",
    "    \n",
    "    def on_epoch_end(self, epoch, logs = {}, thres=0.5):\n",
    "        logs = logs or {}\n",
    "        y_true = self.validation_data[1].argmax(axis = 1)\n",
    "        y_pred = self.model.predict(self.validation_data[0])\n",
    "        y_pred = (y_pred[:, 1] >= thres) * 1\n",
    "        \n",
    "        logs[\"val_tp\"] = np.sum(np.logical_and(y_pred == 1, y_true == 1))\n",
    "        logs[\"val_tn\"] = np.sum(np.logical_and(y_pred == 0, y_true == 0))\n",
    "        \n",
    "rec_tptn = Record_tp_tn()"
   ]
  },
  {
   "cell_type": "code",
   "execution_count": 8,
   "metadata": {},
   "outputs": [],
   "source": [
    "\"\"\"\n",
    "# 載入 Callbacks，撰寫一個 f1 score 的 callback function\n",
    "\"\"\"\n",
    "\n",
    "from keras.callbacks import Callback\n",
    "from sklearn.metrics import f1_score\n",
    "\n",
    "class f1sc(Callback):\n",
    "    def on_train_begin(self, epoch, logs = {}):\n",
    "        logs = logs or {}\n",
    "        record_items = [\"val_auc\", \"val_f1sc\", \"val_fp\", \"val_fn\", \"val_tp\", \"val_tn\"]\n",
    "        for i in record_items:\n",
    "            if i not in self.params['metrics']:\n",
    "                self.params['metrics'].append(i)\n",
    "    \n",
    "    def on_epoch_end(self, epoch, logs = {}, thres=0.5):\n",
    "        logs = logs or {}\n",
    "        y_true = self.validation_data[1].argmax(axis = 1)\n",
    "        y_pred = self.model.predict(self.validation_data[0])\n",
    "        y_pred = (y_pred[:, 1] >= thres) * 1\n",
    "        \n",
    "        logs[\"val_f1sc\"] = f1_score(y_true = y_true, y_pred = y_pred, average=\"weighted\")\n",
    "        \n",
    "log_f1sc = f1sc()"
   ]
  },
  {
   "cell_type": "code",
   "execution_count": 9,
   "metadata": {
    "scrolled": true
   },
   "outputs": [
    {
     "name": "stdout",
     "output_type": "stream",
     "text": [
      "Model: \"model_1\"\n",
      "_________________________________________________________________\n",
      "Layer (type)                 Output Shape              Param #   \n",
      "=================================================================\n",
      "input_1 (InputLayer)         (None, 3072)              0         \n",
      "_________________________________________________________________\n",
      "hidden_layer1 (Dense)        (None, 256)               786688    \n",
      "_________________________________________________________________\n",
      "batch_normalization_1 (Batch (None, 256)               1024      \n",
      "_________________________________________________________________\n",
      "hidden_layer2 (Dense)        (None, 256)               65792     \n",
      "_________________________________________________________________\n",
      "batch_normalization_2 (Batch (None, 256)               1024      \n",
      "_________________________________________________________________\n",
      "hidden_layer3 (Dense)        (None, 256)               65792     \n",
      "_________________________________________________________________\n",
      "batch_normalization_3 (Batch (None, 256)               1024      \n",
      "_________________________________________________________________\n",
      "output (Dense)               (None, 10)                2570      \n",
      "=================================================================\n",
      "Total params: 923,914\n",
      "Trainable params: 922,378\n",
      "Non-trainable params: 1,536\n",
      "_________________________________________________________________\n",
      "Train on 50000 samples, validate on 10000 samples\n",
      "Epoch 1/25\n",
      "50000/50000 [==============================] - 5s 101us/step - loss: 2.2443 - accuracy: 0.2653 - val_loss: 2.1405 - val_accuracy: 0.2080\n"
     ]
    },
    {
     "name": "stderr",
     "output_type": "stream",
     "text": [
      "/Users/beemolin/anaconda3/lib/python3.7/site-packages/sklearn/metrics/classification.py:1437: UndefinedMetricWarning: F-score is ill-defined and being set to 0.0 in labels with no predicted samples.\n",
      "  'precision', 'predicted', average, warn_for)\n"
     ]
    },
    {
     "name": "stdout",
     "output_type": "stream",
     "text": [
      "Epoch 2/25\n",
      "50000/50000 [==============================] - 5s 97us/step - loss: 1.7476 - accuracy: 0.3888 - val_loss: 1.9867 - val_accuracy: 0.2928\n",
      "Epoch 3/25\n",
      "50000/50000 [==============================] - 4s 87us/step - loss: 1.6238 - accuracy: 0.4297 - val_loss: 1.8440 - val_accuracy: 0.3457\n",
      "Epoch 4/25\n",
      "50000/50000 [==============================] - 5s 95us/step - loss: 1.5540 - accuracy: 0.4519 - val_loss: 1.7292 - val_accuracy: 0.3981\n",
      "Epoch 5/25\n",
      "50000/50000 [==============================] - 4s 84us/step - loss: 1.5024 - accuracy: 0.4731 - val_loss: 1.6445 - val_accuracy: 0.4179\n",
      "Epoch 6/25\n",
      "50000/50000 [==============================] - 4s 84us/step - loss: 1.4611 - accuracy: 0.4875 - val_loss: 1.5957 - val_accuracy: 0.4353\n",
      "Epoch 7/25\n",
      "50000/50000 [==============================] - 4s 85us/step - loss: 1.4229 - accuracy: 0.5006 - val_loss: 1.5506 - val_accuracy: 0.4516\n",
      "Epoch 8/25\n",
      "50000/50000 [==============================] - 4s 84us/step - loss: 1.3906 - accuracy: 0.5106 - val_loss: 1.5306 - val_accuracy: 0.4579\n",
      "Epoch 9/25\n",
      "50000/50000 [==============================] - 4s 85us/step - loss: 1.3615 - accuracy: 0.5218 - val_loss: 1.5141 - val_accuracy: 0.4672\n",
      "Epoch 10/25\n",
      "50000/50000 [==============================] - 4s 84us/step - loss: 1.3345 - accuracy: 0.5323 - val_loss: 1.4912 - val_accuracy: 0.4744\n",
      "Epoch 11/25\n",
      "50000/50000 [==============================] - 4s 84us/step - loss: 1.3103 - accuracy: 0.5414 - val_loss: 1.4862 - val_accuracy: 0.4757\n",
      "Epoch 12/25\n",
      "50000/50000 [==============================] - 4s 84us/step - loss: 1.2880 - accuracy: 0.5482 - val_loss: 1.4911 - val_accuracy: 0.4736\n",
      "Epoch 13/25\n",
      "50000/50000 [==============================] - 4s 84us/step - loss: 1.2647 - accuracy: 0.5588 - val_loss: 1.4750 - val_accuracy: 0.4808\n",
      "Epoch 14/25\n",
      "50000/50000 [==============================] - 4s 86us/step - loss: 1.2440 - accuracy: 0.5672 - val_loss: 1.4790 - val_accuracy: 0.4777\n",
      "Epoch 15/25\n",
      "50000/50000 [==============================] - 4s 85us/step - loss: 1.2226 - accuracy: 0.5746 - val_loss: 1.4588 - val_accuracy: 0.4807\n",
      "Epoch 16/25\n",
      "50000/50000 [==============================] - 4s 87us/step - loss: 1.2029 - accuracy: 0.5819 - val_loss: 1.4587 - val_accuracy: 0.4810\n",
      "Epoch 17/25\n",
      "50000/50000 [==============================] - 4s 84us/step - loss: 1.1836 - accuracy: 0.5889 - val_loss: 1.4579 - val_accuracy: 0.4851\n",
      "Epoch 18/25\n",
      "50000/50000 [==============================] - 4s 87us/step - loss: 1.1646 - accuracy: 0.5969 - val_loss: 1.4507 - val_accuracy: 0.4894\n",
      "Epoch 19/25\n",
      "50000/50000 [==============================] - 4s 84us/step - loss: 1.1464 - accuracy: 0.6028 - val_loss: 1.4482 - val_accuracy: 0.4912\n",
      "Epoch 20/25\n",
      "50000/50000 [==============================] - 4s 84us/step - loss: 1.1279 - accuracy: 0.6107 - val_loss: 1.4407 - val_accuracy: 0.4884\n",
      "Epoch 21/25\n",
      "50000/50000 [==============================] - 4s 83us/step - loss: 1.1100 - accuracy: 0.6174 - val_loss: 1.4489 - val_accuracy: 0.4923\n",
      "Epoch 22/25\n",
      "50000/50000 [==============================] - 4s 85us/step - loss: 1.0919 - accuracy: 0.6244 - val_loss: 1.4603 - val_accuracy: 0.4897\n",
      "Epoch 23/25\n",
      "50000/50000 [==============================] - 4s 87us/step - loss: 1.0763 - accuracy: 0.6291 - val_loss: 1.4461 - val_accuracy: 0.4960\n",
      "Epoch 24/25\n",
      "50000/50000 [==============================] - 4s 85us/step - loss: 1.0592 - accuracy: 0.6365 - val_loss: 1.4705 - val_accuracy: 0.4883\n",
      "Epoch 25/25\n",
      "50000/50000 [==============================] - 4s 84us/step - loss: 1.0439 - accuracy: 0.6413 - val_loss: 1.4427 - val_accuracy: 0.4978\n"
     ]
    }
   ],
   "source": [
    "model = build_mlp(input_shape=x_train.shape[1:])\n",
    "model.summary()\n",
    "optimizer = keras.optimizers.SGD(lr=LEARNING_RATE, nesterov=True, momentum=MOMENTUM)\n",
    "model.compile(loss=\"categorical_crossentropy\", metrics=[\"accuracy\"], optimizer=optimizer)\n",
    "\n",
    "\"\"\"Code Here\n",
    "將 callbacks 放入模型訓練流程中\n",
    "\"\"\"\n",
    "model.fit(x_train, y_train,\n",
    "         epochs=EPOCHS,\n",
    "         batch_size=BATCH_SIZE,\n",
    "         validation_data=(x_test, y_test),\n",
    "         shuffle=True,\n",
    "         callbacks=[log_f1sc, rec_tptn])\n",
    "\n",
    "# Collect results\n",
    "train_loss = model.history.history[\"loss\"]\n",
    "valid_loss = model.history.history[\"val_loss\"]\n",
    "train_acc = model.history.history[\"accuracy\"]\n",
    "valid_acc = model.history.history[\"val_accuracy\"]\n",
    "\n",
    "# 在訓練後，將 f1sc 紀錄調出\n",
    "valid_f1sc = model.history.history['val_f1sc']\n",
    "\n",
    "\"\"\"Code Here\n",
    "將 tp/tn 從訓練完的模型中取出\n",
    "\"\"\"\n",
    "\n",
    "valid_tp = model.history.history['val_tp']\n",
    "valid_tn = model.history.history['val_tn']"
   ]
  },
  {
   "cell_type": "code",
   "execution_count": 10,
   "metadata": {},
   "outputs": [
    {
     "data": {
      "image/png": "[encoded data removed]",
      "text/plain": [
       "<Figure size 432x288 with 1 Axes>"
      ]
     },
     "metadata": {
      "needs_background": "light"
     },
     "output_type": "display_data"
    },
    {
     "data": {
      "image/png": "[encoded data removed]",
      "text/plain": [
       "<Figure size 432x288 with 1 Axes>"
      ]
     },
     "metadata": {
      "needs_background": "light"
     },
     "output_type": "display_data"
    },
    {
     "data": {
      "image/png": "[encoded data removed]",
      "text/plain": [
       "<Figure size 432x288 with 1 Axes>"
      ]
     },
     "metadata": {
      "needs_background": "light"
     },
     "output_type": "display_data"
    },
    {
     "data": {
      "image/png": "[encoded data removed]",
      "text/plain": [
       "<Figure size 432x288 with 1 Axes>"
      ]
     },
     "metadata": {
      "needs_background": "light"
     },
     "output_type": "display_data"
    }
   ],
   "source": [
    "import matplotlib.pyplot as plt\n",
    "%matplotlib inline\n",
    "\n",
    "plt.plot(range(len(train_loss)), train_loss, label=\"train loss\")\n",
    "plt.plot(range(len(valid_loss)), valid_loss, label=\"valid loss\")\n",
    "plt.legend()\n",
    "plt.title(\"Loss\")\n",
    "plt.show()\n",
    "\n",
    "plt.plot(range(len(train_acc)), train_acc, label=\"train accuracy\")\n",
    "plt.plot(range(len(valid_acc)), valid_acc, label=\"valid accuracy\")\n",
    "plt.legend()\n",
    "plt.title(\"Accuracy\")\n",
    "plt.show()\n",
    "\n",
    "plt.plot(range(len(valid_f1sc)), valid_f1sc, label=\"valid f1-score\")\n",
    "plt.legend()\n",
    "plt.title(\"F1-score\")\n",
    "plt.show()\n",
    "\n",
    "plt.plot(range(len(valid_tp)), valid_tp, label=\"valid tp\", color=\"navy\")\n",
    "plt.plot(range(len(valid_tn)), valid_tn, label=\"valid tn\", color=\"red\")\n",
    "plt.legend()\n",
    "plt.title(\"True positives and True Negatives\")\n",
    "plt.show()\n"
   ]
  }
 ],
 "metadata": {
  "kernelspec": {
   "display_name": "Python 3",
   "language": "python",
   "name": "python3"
  },
  "language_info": {
   "codemirror_mode": {
    "name": "ipython",
    "version": 3
   },
   "file_extension": ".py",
   "mimetype": "text/x-python",
   "name": "python",
   "nbconvert_exporter": "python",
   "pygments_lexer": "ipython3",
   "version": "3.7.3"
  }
 },
 "nbformat": 4,
 "nbformat_minor": 2
}
