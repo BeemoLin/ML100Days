{
 "cells": [
  {
   "cell_type": "markdown",
   "metadata": {},
   "source": [
    "# 作業重點\n",
    "\n",
    "使用function y=(x+5)² 來練習學習率( leanrning rate ) 調整所造成的影響"
   ]
  },
  {
   "cell_type": "markdown",
   "metadata": {},
   "source": [
    "# 作業目標:\n",
    "    請嘗試使用不同的組合驗證 learning rate 對所需 iteration 的影響\n",
    "    lr = [0.1, 0.0001]\n",
    "    主要驗證 Lr 對於grandient 收斂的速度\n",
    "    "
   ]
  },
  {
   "cell_type": "code",
   "execution_count": 1,
   "metadata": {},
   "outputs": [],
   "source": [
    "precision = 0.000001 #This tells us when to stop the algorithm\n",
    "max_iters = 10000 # maximum number of iterations\n",
    "df = lambda x: 2*(x+5) #Gradient of our function \n",
    "\n",
    "cur_x = 3 # The algorithm starts at x=3\n",
    "lr = 0.0001 # Learning rate\n",
    "iters = 0\n",
    "previous_step_size = 1\n",
    "iters_history = [iters]\n",
    "x_history = [cur_x]"
   ]
  },
  {
   "cell_type": "code",
   "execution_count": 2,
   "metadata": {
    "scrolled": false
   },
   "outputs": [],
   "source": [
    "'''\n",
    "需要執行初始值設定, 下列三個\n",
    "# Learning rate\n",
    "#iteration counter\n",
    "#Step size  \n",
    "'''\n",
    "'''\n",
    "while previous_step_size > precision and iters < max_iters:\n",
    "\n",
    "  算法迭代更新\n",
    "\n",
    "print(\"the learning rate is\",lr, \"\\nIteration\",iters,\"\\nX value is\",cur_x) #Print iterations\n",
    "'''\n",
    "while previous_step_size > precision and iters < max_iters:\n",
    "    prev_x = cur_x #Store current x value in prev_x\n",
    "    cur_x = cur_x - lr * df(prev_x) #Gradient descent\n",
    "    previous_step_size = abs(cur_x - prev_x) # 取較大的值, Change in x\n",
    "    iters = iters+1 #iteration count\n",
    "#     print(\"Iteration\",iters,\"\\nX value is\",cur_x) #Print iterations\n",
    "     # Store parameters for plotting\n",
    "    iters_history.append(iters)\n",
    "    x_history.append(cur_x)\n",
    "    \n",
    "cur_x_2 = 3 # The algorithm starts at x=3\n",
    "lr_2 = 0.1 # Learning rate\n",
    "iters_2 = 0\n",
    "previous_step_size_2 = 1\n",
    "iters_history_2 = [iters_2]\n",
    "x_history_2 = [cur_x_2]\n",
    "while previous_step_size_2 > precision and iters_2 < max_iters:\n",
    "    prev_x_2 = cur_x_2 #Store current x value in prev_x\n",
    "    cur_x_2 = cur_x_2 - lr_2 * df(prev_x_2) #Gradient descent\n",
    "    previous_step_size_2 = abs(cur_x_2 - prev_x_2) # 取較大的值, Change in x\n",
    "    iters_2 = iters_2 + 1 #iteration count\n",
    "#     print(\"Iteration\",iters,\"\\nX value is\",cur_x) #Print iterations\n",
    "     # Store parameters for plotting\n",
    "    iters_history_2.append(iters_2)\n",
    "    x_history_2.append(cur_x_2)"
   ]
  },
  {
   "cell_type": "code",
   "execution_count": 3,
   "metadata": {},
   "outputs": [
    {
     "name": "stdout",
     "output_type": "stream",
     "text": [
      "[0, 1, 2, 3, 4, 5, 6, 7, 8, 9]\n",
      "[3, 2.9984, 2.99680032, 2.995200959936, 2.993601919744013, 2.992003199360064, 2.990404798720192, 2.988806717760448, 2.9872089564168958, 2.9856115146256124]\n",
      "10001\n",
      "[0, 1, 2, 3, 4, 5, 6, 7, 8, 9]\n",
      "[3, 1.4, 0.11999999999999966, -0.9040000000000001, -1.7232000000000003, -2.3785600000000002, -2.902848, -3.3222784, -3.65782272, -3.926258176]\n",
      "67\n"
     ]
    }
   ],
   "source": [
    "print(iters_history[:10])\n",
    "print(x_history[:10])\n",
    "print(len(iters_history))\n",
    "\n",
    "print(iters_history_2[:10])\n",
    "print(x_history_2[:10])\n",
    "print(len(iters_history_2))"
   ]
  },
  {
   "cell_type": "code",
   "execution_count": 4,
   "metadata": {},
   "outputs": [
    {
     "name": "stdout",
     "output_type": "stream",
     "text": [
      "Totally iteations:  10000\n",
      "The local minimum occurs at -3.917534277778167\n",
      "Totally iteations:  66\n",
      "The local minimum occurs at -4.999996786123911\n"
     ]
    }
   ],
   "source": [
    "print(\"Totally iteations: \", iters)\n",
    "print(\"The local minimum occurs at\", cur_x)\n",
    "\n",
    "print(\"Totally iteations: \", iters_2)\n",
    "print(\"The local minimum occurs at\", cur_x_2)"
   ]
  },
  {
   "cell_type": "code",
   "execution_count": 5,
   "metadata": {},
   "outputs": [
    {
     "name": "stderr",
     "output_type": "stream",
     "text": [
      "/Users/beemolin/anaconda3/lib/python3.7/site-packages/ipykernel_launcher.py:23: UserWarning: Matplotlib is currently using module://ipykernel.pylab.backend_inline, which is a non-GUI backend, so cannot show the figure.\n"
     ]
    },
    {
     "data": {
      "image/png": "[encoded data removed]",
      "text/plain": [
       "<Figure size 864x324 with 2 Axes>"
      ]
     },
     "metadata": {
      "needs_background": "light"
     },
     "output_type": "display_data"
    }
   ],
   "source": [
    "import matplotlib.pyplot as plt\n",
    "%matplotlib inline \n",
    "#適用於 Jupyter Notebook, 宣告直接在cell 內印出執行結果\n",
    "\n",
    "# 建立繪圖物件 fig, 大小為 12 * 4.5, 內有 1 列 2 欄的小圖, 兩圖共用 x 軸和 y 軸\n",
    "fig, (ax1, ax2) = plt.subplots(1, 2, sharex = False, sharey = False, figsize = (12, 4.5))\n",
    "\n",
    "# 設定小圖 ax1 的坐標軸標籤, 格線顏色、種類、寬度, y軸繪圖範圍, 最後用 plot 繪圖\n",
    "ax1.set_xlabel(r'$iters$', fontsize=16)\n",
    "ax1.set_ylabel(r'$x$', fontsize=16)\n",
    "ax1.grid(color = 'gray', linestyle = '--', linewidth = 1)\n",
    "ax1.set_xlim(0, len(iters_history))\n",
    "ax1.plot(iters_history, x_history, 'o-', ms=3, lw=1.5, color='blue')\n",
    "\n",
    "# 設定小圖 ax2 的坐標軸標籤, 格線顏色、種類、寬度, 最後用 plot 繪圖\n",
    "ax2.set_xlabel(r'$iters$', fontsize=16)\n",
    "ax2.set_ylabel(r'$x$', fontsize=16)\n",
    "ax2.grid(color = 'gray', linestyle = '--', linewidth = 1)\n",
    "ax2.set_xlim(0, len(iters_history_2))\n",
    "ax2.plot(iters_history_2, x_history_2, 'o-', ms=3, lw=1.5, color='green')\n",
    "\n",
    "# 用 savefig 儲存圖片, 用 show 顯示圖片\n",
    "fig.show()"
   ]
  }
 ],
 "metadata": {
  "kernelspec": {
   "display_name": "Python 3",
   "language": "python",
   "name": "python3"
  },
  "language_info": {
   "codemirror_mode": {
    "name": "ipython",
    "version": 3
   },
   "file_extension": ".py",
   "mimetype": "text/x-python",
   "name": "python",
   "nbconvert_exporter": "python",
   "pygments_lexer": "ipython3",
   "version": "3.7.3"
  }
 },
 "nbformat": 4,
 "nbformat_minor": 2
}
