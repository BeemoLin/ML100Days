{
 "cells": [
  {
   "cell_type": "markdown",
   "metadata": {},
   "source": [
    "## [作業重點]\n",
    "確保你了解隨機森林模型中每個超參數的意義，並觀察調整超參數對結果的影響"
   ]
  },
  {
   "cell_type": "markdown",
   "metadata": {},
   "source": [
    "## 作業\n",
    "\n",
    "1. 試著調整 RandomForestClassifier(...) 中的參數，並觀察是否會改變結果？\n",
    "2. 改用其他資料集 (boston, wine)，並與回歸模型與決策樹的結果進行比較"
   ]
  },
  {
   "cell_type": "code",
   "execution_count": 1,
   "metadata": {},
   "outputs": [],
   "source": [
    "from sklearn.ensemble import RandomForestClassifier,RandomForestRegressor\n",
    "from sklearn import datasets,metrics\n",
    "from sklearn.model_selection import train_test_split\n",
    "from sklearn.linear_model import LinearRegression,LogisticRegression\n",
    "from sklearn.tree import DecisionTreeRegressor,DecisionTreeClassifier\n",
    "from sklearn.ensemble import RandomForestRegressor,RandomForestClassifier\n",
    "import numpy as np"
   ]
  },
  {
   "cell_type": "code",
   "execution_count": 2,
   "metadata": {},
   "outputs": [
    {
     "name": "stdout",
     "output_type": "stream",
     "text": [
      "输入样本的形状：(506, 13)\n",
      "输出样本不同值的数量：229\n"
     ]
    }
   ],
   "source": [
    "data=datasets.load_boston()\n",
    "X=data.data\n",
    "y=data.target\n",
    "x_train,x_test,y_train,y_test=train_test_split(X,y,test_size=0.2,random_state=4)\n",
    "print(f'输入样本的形状：{X.shape}')\n",
    "print(f'输出样本不同值的数量：{np.unique(y).size}')"
   ]
  },
  {
   "cell_type": "code",
   "execution_count": 3,
   "metadata": {},
   "outputs": [
    {
     "name": "stdout",
     "output_type": "stream",
     "text": [
      "使用LinearRegression的MSE：25.4196\n",
      "使用DecisionTree的MSE：24.1816\n",
      "使用RandomForest的MSE：19.8737\n"
     ]
    }
   ],
   "source": [
    "clf=LinearRegression()\n",
    "clf.fit(x_train,y_train)\n",
    "y_pred=clf.predict(x_test)\n",
    "print('使用LinearRegression的MSE：%.4f' % metrics.mean_squared_error(y_test,y_pred))\n",
    "clf=DecisionTreeRegressor()\n",
    "clf.fit(x_train,y_train)\n",
    "y_pred=clf.predict(x_test)\n",
    "print('使用DecisionTree的MSE：%.4f' % metrics.mean_squared_error(y_test,y_pred))\n",
    "clf=RandomForestRegressor(n_estimators=10,max_features='sqrt')\n",
    "clf.fit(x_train,y_train)\n",
    "y_pred=clf.predict(x_test)\n",
    "print('使用RandomForest的MSE：%.4f' % metrics.mean_squared_error(y_test,y_pred))"
   ]
  },
  {
   "cell_type": "code",
   "execution_count": 4,
   "metadata": {},
   "outputs": [
    {
     "name": "stdout",
     "output_type": "stream",
     "text": [
      "输入样本的形状：(178, 13)\n",
      "输出样本不同值的数量：3\n"
     ]
    }
   ],
   "source": [
    "data=datasets.load_wine()\n",
    "X=data.data\n",
    "y=data.target\n",
    "x_train,x_test,y_train,y_test=train_test_split(X,y,test_size=0.2,random_state=4)\n",
    "print(f'输入样本的形状：{X.shape}')\n",
    "print(f'输出样本不同值的数量：{np.unique(y).size}')"
   ]
  },
  {
   "cell_type": "code",
   "execution_count": 5,
   "metadata": {},
   "outputs": [
    {
     "name": "stdout",
     "output_type": "stream",
     "text": [
      "使用LogisticRegression的正确率：0.9722\n",
      "使用DecisionTree的正确率：0.8889\n",
      "使用RandomForest的正确率：1.0000\n"
     ]
    }
   ],
   "source": [
    "clf=LogisticRegression(solver='liblinear',multi_class='auto')\n",
    "clf.fit(x_train,y_train)\n",
    "y_pred=clf.predict(x_test)\n",
    "print('使用LogisticRegression的正确率：%.4f' % metrics.accuracy_score(y_test,y_pred))\n",
    "clf=DecisionTreeClassifier()\n",
    "clf.fit(x_train,y_train)\n",
    "y_pred=clf.predict(x_test)\n",
    "print('使用DecisionTree的正确率：%.4f' % metrics.accuracy_score(y_test,y_pred))\n",
    "clf=RandomForestClassifier(n_estimators=10,max_features='sqrt')\n",
    "clf.fit(x_train,y_train)\n",
    "y_pred=clf.predict(x_test)\n",
    "print('使用RandomForest的正确率：%.4f' % metrics.accuracy_score(y_test,y_pred))"
   ]
  },
  {
   "cell_type": "code",
   "execution_count": null,
   "metadata": {},
   "outputs": [],
   "source": []
  }
 ],
 "metadata": {
  "kernelspec": {
   "display_name": "Python 3",
   "language": "python",
   "name": "python3"
  },
  "language_info": {
   "codemirror_mode": {
    "name": "ipython",
    "version": 3
   },
   "file_extension": ".py",
   "mimetype": "text/x-python",
   "name": "python",
   "nbconvert_exporter": "python",
   "pygments_lexer": "ipython3",
   "version": "3.7.3"
  }
 },
 "nbformat": 4,
 "nbformat_minor": 2
}