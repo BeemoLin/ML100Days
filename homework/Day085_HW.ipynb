{
  "nbformat": 4,
  "nbformat_minor": 0,
  "metadata": {
    "kernelspec": {
      "name": "python3",
      "display_name": "Python 3"
    },
    "language_info": {
      "codemirror_mode": {
        "name": "ipython",
        "version": 3
      },
      "file_extension": ".py",
      "mimetype": "text/x-python",
      "name": "python",
      "nbconvert_exporter": "python",
      "pygments_lexer": "ipython3",
      "version": "3.7.3"
    },
    "colab": {
      "name": "Day085_HW.ipynb",
      "provenance": []
    },
    "accelerator": "GPU"
  },
  "cells": [
    {
      "cell_type": "markdown",
      "metadata": {
        "id": "k4c2q425MfiJ",
        "colab_type": "text"
      },
      "source": [
        "## 範例重點\n",
        "* 學習如何在 keras 中加入 EarlyStop\n",
        "* 知道如何設定監控目標\n",
        "* 比較有無 earlystopping 對 validation 的影響\n",
        "\n",
        "## Work\n",
        "1. 試改變 monitor \"Validation Accuracy\" 並比較結果\n",
        "2. 調整 earlystop 的等待次數至 10, 25 並比較結果"
      ]
    },
    {
      "cell_type": "code",
      "metadata": {
        "id": "C7iwlI3rMfiM",
        "colab_type": "code",
        "colab": {
          "base_uri": "https://localhost:8080/",
          "height": 63
        },
        "outputId": "b01ae594-961f-4668-d5e7-128ed3c0fe1e"
      },
      "source": [
        "import os\n",
        "import tensorflow.keras as keras\n",
        "# import keras\n",
        "\n",
        "# 本範例不需使用 GPU, 將 GPU 設定為 \"無\"\n",
        "os.environ[\"CUDA_VISIBLE_DEVICES\"] = \"0,1\""
      ],
      "execution_count": 1,
      "outputs": [
        {
          "output_type": "display_data",
          "data": {
            "text/html": [
              "<p style=\"color: red;\">\n",
              "The default version of TensorFlow in Colab will soon switch to TensorFlow 2.x.<br>\n",
              "We recommend you <a href=\"https://www.tensorflow.org/guide/migrate\" target=\"_blank\">upgrade</a> now \n",
              "or ensure your notebook will continue to use TensorFlow 1.x via the <code>%tensorflow_version 1.x</code> magic:\n",
              "<a href=\"https://colab.research.google.com/notebooks/tensorflow_version.ipynb\" target=\"_blank\">more info</a>.</p>\n"
            ],
            "text/plain": [
              "<IPython.core.display.HTML object>"
            ]
          },
          "metadata": {
            "tags": []
          }
        }
      ]
    },
    {
      "cell_type": "code",
      "metadata": {
        "id": "g4v2A2qxMfiR",
        "colab_type": "code",
        "colab": {
          "base_uri": "https://localhost:8080/",
          "height": 51
        },
        "outputId": "d4349a2e-8cfd-4a0e-c2e7-66cc9d153aa1"
      },
      "source": [
        "train, test = keras.datasets.cifar10.load_data()"
      ],
      "execution_count": 2,
      "outputs": [
        {
          "output_type": "stream",
          "text": [
            "Downloading data from https://www.cs.toronto.edu/~kriz/cifar-10-python.tar.gz\n",
            "170500096/170498071 [==============================] - 4s 0us/step\n"
          ],
          "name": "stdout"
        }
      ]
    },
    {
      "cell_type": "code",
      "metadata": {
        "id": "ld6hhrFhMfiV",
        "colab_type": "code",
        "colab": {}
      },
      "source": [
        "## 資料前處理\n",
        "def preproc_x(x, flatten=True):\n",
        "    x = x / 255.\n",
        "    if flatten:\n",
        "        x = x.reshape((len(x), -1))\n",
        "    return x\n",
        "\n",
        "def preproc_y(y, num_classes=10):\n",
        "    if y.shape[-1] == 1:\n",
        "        y = keras.utils.to_categorical(y, num_classes)\n",
        "    return y    "
      ],
      "execution_count": 0,
      "outputs": []
    },
    {
      "cell_type": "code",
      "metadata": {
        "id": "IvD-8jInMfiY",
        "colab_type": "code",
        "colab": {}
      },
      "source": [
        "x_train, y_train = train\n",
        "x_test, y_test = test\n",
        "\n",
        "# 資料前處理 - X 標準化\n",
        "x_train = preproc_x(x_train)\n",
        "x_test = preproc_x(x_test)\n",
        "\n",
        "# 資料前處理 -Y 轉成 onehot\n",
        "y_train = preproc_y(y_train)\n",
        "y_test = preproc_y(y_test)"
      ],
      "execution_count": 0,
      "outputs": []
    },
    {
      "cell_type": "code",
      "metadata": {
        "id": "W5rxDttfMfie",
        "colab_type": "code",
        "colab": {}
      },
      "source": [
        "from tensorflow.keras.layers import BatchNormalization\n",
        "\n",
        "\"\"\"\n",
        "建立神經網路，並加入 BN layer\n",
        "\"\"\"\n",
        "def build_mlp(input_shape, output_units=10, num_neurons=[512, 256, 128]):\n",
        "    input_layer = keras.layers.Input(input_shape)\n",
        "    \n",
        "    for i, n_units in enumerate(num_neurons):\n",
        "        if i == 0:\n",
        "            x = keras.layers.Dense(units=n_units, \n",
        "                                   activation=\"relu\", \n",
        "                                   name=\"hidden_layer\"+str(i+1))(input_layer)\n",
        "            x = BatchNormalization()(x)\n",
        "        else:\n",
        "            x = keras.layers.Dense(units=n_units, \n",
        "                                   activation=\"relu\", \n",
        "                                   name=\"hidden_layer\"+str(i+1))(x)\n",
        "            x = BatchNormalization()(x)\n",
        "    \n",
        "    out = keras.layers.Dense(units=output_units, activation=\"softmax\", name=\"output\")(x)\n",
        "    \n",
        "    model = keras.models.Model(inputs=[input_layer], outputs=[out])\n",
        "    return model"
      ],
      "execution_count": 0,
      "outputs": []
    },
    {
      "cell_type": "code",
      "metadata": {
        "id": "8uyfFmm8Mfij",
        "colab_type": "code",
        "colab": {}
      },
      "source": [
        "## 超參數設定\n",
        "LEARNING_RATE = 1e-3\n",
        "EPOCHS = 50\n",
        "BATCH_SIZE = 1024\n",
        "MOMENTUM = 0.95"
      ],
      "execution_count": 0,
      "outputs": []
    },
    {
      "cell_type": "code",
      "metadata": {
        "id": "lGY1CjsoMfil",
        "colab_type": "code",
        "colab": {}
      },
      "source": [
        "\"\"\"\n",
        "# 載入 Callbacks, 並將 monitor 設定為監控 validation loss\n",
        "\"\"\"\n",
        "from tensorflow.keras.callbacks import EarlyStopping\n",
        "\n",
        "earlystop = EarlyStopping(monitor=\"val_loss\", \n",
        "                          patience=5, \n",
        "                          verbose=1\n",
        "                          )"
      ],
      "execution_count": 0,
      "outputs": []
    },
    {
      "cell_type": "code",
      "metadata": {
        "scrolled": true,
        "id": "SErjPMH1Mfin",
        "colab_type": "code",
        "colab": {
          "base_uri": "https://localhost:8080/",
          "height": 1000
        },
        "outputId": "d7128217-f44d-4382-8f7b-67cd2ce50bbc"
      },
      "source": [
        "model = build_mlp(input_shape=x_train.shape[1:])\n",
        "model.summary()\n",
        "optimizer = keras.optimizers.SGD(lr=LEARNING_RATE, nesterov=True, momentum=MOMENTUM)\n",
        "model.compile(loss=\"categorical_crossentropy\", metrics=[\"accuracy\"], optimizer=optimizer)\n",
        "\n",
        "model.fit(x_train, y_train, \n",
        "          epochs=EPOCHS, \n",
        "          batch_size=BATCH_SIZE, \n",
        "          validation_data=(x_test, y_test), \n",
        "          shuffle=True,\n",
        "          callbacks=[earlystop]\n",
        "         )\n",
        "\n",
        "# Collect results\n",
        "train_loss = model.history.history[\"loss\"]\n",
        "valid_loss = model.history.history[\"val_loss\"]\n",
        "train_acc = model.history.history[\"acc\"]\n",
        "valid_acc = model.history.history[\"val_acc\"]"
      ],
      "execution_count": 8,
      "outputs": [
        {
          "output_type": "stream",
          "text": [
            "WARNING:tensorflow:From /usr/local/lib/python3.6/dist-packages/tensorflow_core/python/ops/resource_variable_ops.py:1630: calling BaseResourceVariable.__init__ (from tensorflow.python.ops.resource_variable_ops) with constraint is deprecated and will be removed in a future version.\n",
            "Instructions for updating:\n",
            "If using Keras pass *_constraint arguments to layers.\n",
            "Model: \"model\"\n",
            "_________________________________________________________________\n",
            "Layer (type)                 Output Shape              Param #   \n",
            "=================================================================\n",
            "input_1 (InputLayer)         [(None, 3072)]            0         \n",
            "_________________________________________________________________\n",
            "hidden_layer1 (Dense)        (None, 512)               1573376   \n",
            "_________________________________________________________________\n",
            "batch_normalization (BatchNo (None, 512)               2048      \n",
            "_________________________________________________________________\n",
            "hidden_layer2 (Dense)        (None, 256)               131328    \n",
            "_________________________________________________________________\n",
            "batch_normalization_1 (Batch (None, 256)               1024      \n",
            "_________________________________________________________________\n",
            "hidden_layer3 (Dense)        (None, 128)               32896     \n",
            "_________________________________________________________________\n",
            "batch_normalization_2 (Batch (None, 128)               512       \n",
            "_________________________________________________________________\n",
            "output (Dense)               (None, 10)                1290      \n",
            "=================================================================\n",
            "Total params: 1,742,474\n",
            "Trainable params: 1,740,682\n",
            "Non-trainable params: 1,792\n",
            "_________________________________________________________________\n",
            "Train on 50000 samples, validate on 10000 samples\n",
            "Epoch 1/50\n",
            "50000/50000 [==============================] - 3s 52us/sample - loss: 2.1724 - acc: 0.2735 - val_loss: 2.1256 - val_acc: 0.2334\n",
            "Epoch 2/50\n",
            "50000/50000 [==============================] - 2s 32us/sample - loss: 1.7452 - acc: 0.3902 - val_loss: 1.9954 - val_acc: 0.2920\n",
            "Epoch 3/50\n",
            "50000/50000 [==============================] - 2s 32us/sample - loss: 1.6223 - acc: 0.4311 - val_loss: 1.8466 - val_acc: 0.3456\n",
            "Epoch 4/50\n",
            "50000/50000 [==============================] - 2s 33us/sample - loss: 1.5486 - acc: 0.4591 - val_loss: 1.7399 - val_acc: 0.3935\n",
            "Epoch 5/50\n",
            "50000/50000 [==============================] - 2s 32us/sample - loss: 1.4940 - acc: 0.4771 - val_loss: 1.6389 - val_acc: 0.4314\n",
            "Epoch 6/50\n",
            "50000/50000 [==============================] - 2s 33us/sample - loss: 1.4480 - acc: 0.4948 - val_loss: 1.5830 - val_acc: 0.4450\n",
            "Epoch 7/50\n",
            "50000/50000 [==============================] - 2s 32us/sample - loss: 1.4102 - acc: 0.5088 - val_loss: 1.5509 - val_acc: 0.4580\n",
            "Epoch 8/50\n",
            "50000/50000 [==============================] - 2s 32us/sample - loss: 1.3741 - acc: 0.5198 - val_loss: 1.5280 - val_acc: 0.4647\n",
            "Epoch 9/50\n",
            "50000/50000 [==============================] - 2s 32us/sample - loss: 1.3464 - acc: 0.5310 - val_loss: 1.5019 - val_acc: 0.4731\n",
            "Epoch 10/50\n",
            "50000/50000 [==============================] - 2s 32us/sample - loss: 1.3151 - acc: 0.5423 - val_loss: 1.4904 - val_acc: 0.4751\n",
            "Epoch 11/50\n",
            "50000/50000 [==============================] - 2s 33us/sample - loss: 1.2867 - acc: 0.5523 - val_loss: 1.4843 - val_acc: 0.4781\n",
            "Epoch 12/50\n",
            "50000/50000 [==============================] - 2s 32us/sample - loss: 1.2568 - acc: 0.5645 - val_loss: 1.4887 - val_acc: 0.4836\n",
            "Epoch 13/50\n",
            "50000/50000 [==============================] - 2s 32us/sample - loss: 1.2339 - acc: 0.5722 - val_loss: 1.4734 - val_acc: 0.4829\n",
            "Epoch 14/50\n",
            "50000/50000 [==============================] - 2s 32us/sample - loss: 1.2075 - acc: 0.5814 - val_loss: 1.4726 - val_acc: 0.4844\n",
            "Epoch 15/50\n",
            "50000/50000 [==============================] - 2s 32us/sample - loss: 1.1844 - acc: 0.5895 - val_loss: 1.4683 - val_acc: 0.4866\n",
            "Epoch 16/50\n",
            "50000/50000 [==============================] - 2s 32us/sample - loss: 1.1623 - acc: 0.5967 - val_loss: 1.4630 - val_acc: 0.4914\n",
            "Epoch 17/50\n",
            "50000/50000 [==============================] - 2s 32us/sample - loss: 1.1396 - acc: 0.6059 - val_loss: 1.4601 - val_acc: 0.4942\n",
            "Epoch 18/50\n",
            "50000/50000 [==============================] - 2s 33us/sample - loss: 1.1172 - acc: 0.6144 - val_loss: 1.4689 - val_acc: 0.4906\n",
            "Epoch 19/50\n",
            "50000/50000 [==============================] - 2s 32us/sample - loss: 1.0952 - acc: 0.6239 - val_loss: 1.4571 - val_acc: 0.4900\n",
            "Epoch 20/50\n",
            "50000/50000 [==============================] - 2s 32us/sample - loss: 1.0742 - acc: 0.6322 - val_loss: 1.4694 - val_acc: 0.4910\n",
            "Epoch 21/50\n",
            "50000/50000 [==============================] - 2s 32us/sample - loss: 1.0513 - acc: 0.6406 - val_loss: 1.4739 - val_acc: 0.4952\n",
            "Epoch 22/50\n",
            "50000/50000 [==============================] - 2s 32us/sample - loss: 1.0290 - acc: 0.6501 - val_loss: 1.4526 - val_acc: 0.4992\n",
            "Epoch 23/50\n",
            "50000/50000 [==============================] - 2s 32us/sample - loss: 1.0083 - acc: 0.6583 - val_loss: 1.4790 - val_acc: 0.4908\n",
            "Epoch 24/50\n",
            "50000/50000 [==============================] - 2s 32us/sample - loss: 0.9887 - acc: 0.6653 - val_loss: 1.4645 - val_acc: 0.4966\n",
            "Epoch 25/50\n",
            "50000/50000 [==============================] - 2s 32us/sample - loss: 0.9676 - acc: 0.6761 - val_loss: 1.4843 - val_acc: 0.4956\n",
            "Epoch 26/50\n",
            "50000/50000 [==============================] - 2s 32us/sample - loss: 0.9493 - acc: 0.6807 - val_loss: 1.4756 - val_acc: 0.4957\n",
            "Epoch 27/50\n",
            "50000/50000 [==============================] - 2s 32us/sample - loss: 0.9291 - acc: 0.6887 - val_loss: 1.4748 - val_acc: 0.4969\n",
            "Epoch 00027: early stopping\n"
          ],
          "name": "stdout"
        }
      ]
    },
    {
      "cell_type": "code",
      "metadata": {
        "id": "D35YrvuHMfiq",
        "colab_type": "code",
        "colab": {
          "base_uri": "https://localhost:8080/",
          "height": 545
        },
        "outputId": "5b1faee1-96ce-4af0-fd5b-c6fb674ddbc4"
      },
      "source": [
        "import matplotlib.pyplot as plt\n",
        "%matplotlib inline\n",
        "\n",
        "plt.plot(range(len(train_loss)), train_loss, label=\"train loss\")\n",
        "plt.plot(range(len(valid_loss)), valid_loss, label=\"valid loss\")\n",
        "plt.legend()\n",
        "plt.title(\"Loss\")\n",
        "plt.show()\n",
        "\n",
        "plt.plot(range(len(train_acc)), train_acc, label=\"train accuracy\")\n",
        "plt.plot(range(len(valid_acc)), valid_acc, label=\"valid accuracy\")\n",
        "plt.legend()\n",
        "plt.title(\"Accuracy\")\n",
        "plt.show()"
      ],
      "execution_count": 9,
      "outputs": [
        {
          "output_type": "display_data",
          "data": {
            "image/png": "[encoded data removed]",
            "text/plain": [
              "<Figure size 432x288 with 1 Axes>"
            ]
          },
          "metadata": {
            "tags": []
          }
        },
        {
          "output_type": "display_data",
          "data": {
            "image/png": "[encoded data removed]",
            "text/plain": [
              "<Figure size 432x288 with 1 Axes>"
            ]
          },
          "metadata": {
            "tags": []
          }
        }
      ]
    },
    {
      "cell_type": "markdown",
      "metadata": {
        "id": "Kzg3vo_RMfit",
        "colab_type": "text"
      },
      "source": [
        "## Work\n",
        "1. 試改變 monitor \"Validation Accuracy\" 並比較結果\n",
        "2. 調整 earlystop 的等待次數至 10, 25 並比較結果"
      ]
    },
    {
      "cell_type": "markdown",
      "metadata": {
        "id": "Xu03HJnaMfiu",
        "colab_type": "text"
      },
      "source": [
        "## 試改變 monitor \"Validation Accuracy\" 並比較結果"
      ]
    },
    {
      "cell_type": "code",
      "metadata": {
        "id": "Dsj8sA7BMfiu",
        "colab_type": "code",
        "colab": {}
      },
      "source": [
        "\"\"\"\n",
        "# 試改變 monitor \"Validation Accuracy\" 並比較結果\n",
        "\"\"\"\n",
        "from tensorflow.keras.callbacks import EarlyStopping\n",
        "\n",
        "earlystop = EarlyStopping(monitor=\"val_acc\", \n",
        "                          patience=5, \n",
        "                          verbose=1\n",
        "                          )"
      ],
      "execution_count": 0,
      "outputs": []
    },
    {
      "cell_type": "code",
      "metadata": {
        "scrolled": true,
        "id": "ls1ouwV4Mfiw",
        "colab_type": "code",
        "colab": {
          "base_uri": "https://localhost:8080/",
          "height": 1000
        },
        "outputId": "4e873b20-3315-4753-c033-4dda60e897b4"
      },
      "source": [
        "model = build_mlp(input_shape=x_train.shape[1:])\n",
        "model.summary()\n",
        "optimizer = keras.optimizers.SGD(lr=LEARNING_RATE, nesterov=True, momentum=MOMENTUM)\n",
        "model.compile(loss=\"categorical_crossentropy\", metrics=[\"accuracy\"], optimizer=optimizer)\n",
        "\n",
        "model.fit(x_train, y_train, \n",
        "          epochs=EPOCHS, \n",
        "          batch_size=BATCH_SIZE, \n",
        "          validation_data=(x_test, y_test), \n",
        "          shuffle=True,\n",
        "          callbacks=[earlystop]\n",
        "         )\n",
        "\n",
        "# Collect results\n",
        "train_loss = model.history.history[\"loss\"]\n",
        "valid_loss = model.history.history[\"val_loss\"]\n",
        "train_acc = model.history.history[\"acc\"]\n",
        "valid_acc = model.history.history[\"val_acc\"]"
      ],
      "execution_count": 11,
      "outputs": [
        {
          "output_type": "stream",
          "text": [
            "Model: \"model_1\"\n",
            "_________________________________________________________________\n",
            "Layer (type)                 Output Shape              Param #   \n",
            "=================================================================\n",
            "input_2 (InputLayer)         [(None, 3072)]            0         \n",
            "_________________________________________________________________\n",
            "hidden_layer1 (Dense)        (None, 512)               1573376   \n",
            "_________________________________________________________________\n",
            "batch_normalization_3 (Batch (None, 512)               2048      \n",
            "_________________________________________________________________\n",
            "hidden_layer2 (Dense)        (None, 256)               131328    \n",
            "_________________________________________________________________\n",
            "batch_normalization_4 (Batch (None, 256)               1024      \n",
            "_________________________________________________________________\n",
            "hidden_layer3 (Dense)        (None, 128)               32896     \n",
            "_________________________________________________________________\n",
            "batch_normalization_5 (Batch (None, 128)               512       \n",
            "_________________________________________________________________\n",
            "output (Dense)               (None, 10)                1290      \n",
            "=================================================================\n",
            "Total params: 1,742,474\n",
            "Trainable params: 1,740,682\n",
            "Non-trainable params: 1,792\n",
            "_________________________________________________________________\n",
            "Train on 50000 samples, validate on 10000 samples\n",
            "Epoch 1/50\n",
            "50000/50000 [==============================] - 2s 40us/sample - loss: 2.1956 - acc: 0.2699 - val_loss: 2.1393 - val_acc: 0.1861\n",
            "Epoch 2/50\n",
            "50000/50000 [==============================] - 2s 33us/sample - loss: 1.7367 - acc: 0.3932 - val_loss: 1.9818 - val_acc: 0.2642\n",
            "Epoch 3/50\n",
            "50000/50000 [==============================] - 2s 33us/sample - loss: 1.6146 - acc: 0.4347 - val_loss: 1.8380 - val_acc: 0.3419\n",
            "Epoch 4/50\n",
            "50000/50000 [==============================] - 2s 32us/sample - loss: 1.5429 - acc: 0.4609 - val_loss: 1.7223 - val_acc: 0.3918\n",
            "Epoch 5/50\n",
            "50000/50000 [==============================] - 2s 33us/sample - loss: 1.4892 - acc: 0.4802 - val_loss: 1.6393 - val_acc: 0.4210\n",
            "Epoch 6/50\n",
            "50000/50000 [==============================] - 2s 33us/sample - loss: 1.4430 - acc: 0.4978 - val_loss: 1.5932 - val_acc: 0.4362\n",
            "Epoch 7/50\n",
            "50000/50000 [==============================] - 2s 33us/sample - loss: 1.4048 - acc: 0.5109 - val_loss: 1.5512 - val_acc: 0.4438\n",
            "Epoch 8/50\n",
            "50000/50000 [==============================] - 2s 33us/sample - loss: 1.3702 - acc: 0.5228 - val_loss: 1.5174 - val_acc: 0.4608\n",
            "Epoch 9/50\n",
            "50000/50000 [==============================] - 2s 33us/sample - loss: 1.3366 - acc: 0.5341 - val_loss: 1.5041 - val_acc: 0.4655\n",
            "Epoch 10/50\n",
            "50000/50000 [==============================] - 2s 33us/sample - loss: 1.3061 - acc: 0.5439 - val_loss: 1.4835 - val_acc: 0.4692\n",
            "Epoch 11/50\n",
            "50000/50000 [==============================] - 2s 33us/sample - loss: 1.2780 - acc: 0.5560 - val_loss: 1.4825 - val_acc: 0.4795\n",
            "Epoch 12/50\n",
            "50000/50000 [==============================] - 2s 33us/sample - loss: 1.2525 - acc: 0.5654 - val_loss: 1.4712 - val_acc: 0.4825\n",
            "Epoch 13/50\n",
            "50000/50000 [==============================] - 2s 33us/sample - loss: 1.2257 - acc: 0.5763 - val_loss: 1.4635 - val_acc: 0.4845\n",
            "Epoch 14/50\n",
            "50000/50000 [==============================] - 2s 33us/sample - loss: 1.1997 - acc: 0.5863 - val_loss: 1.4556 - val_acc: 0.4846\n",
            "Epoch 15/50\n",
            "50000/50000 [==============================] - 2s 34us/sample - loss: 1.1774 - acc: 0.5942 - val_loss: 1.4670 - val_acc: 0.4857\n",
            "Epoch 16/50\n",
            "50000/50000 [==============================] - 2s 33us/sample - loss: 1.1530 - acc: 0.6043 - val_loss: 1.4470 - val_acc: 0.4919\n",
            "Epoch 17/50\n",
            "50000/50000 [==============================] - 2s 33us/sample - loss: 1.1292 - acc: 0.6128 - val_loss: 1.4525 - val_acc: 0.4921\n",
            "Epoch 18/50\n",
            "50000/50000 [==============================] - 2s 33us/sample - loss: 1.1072 - acc: 0.6211 - val_loss: 1.4530 - val_acc: 0.4926\n",
            "Epoch 19/50\n",
            "50000/50000 [==============================] - 2s 33us/sample - loss: 1.0845 - acc: 0.6295 - val_loss: 1.4509 - val_acc: 0.4891\n",
            "Epoch 20/50\n",
            "50000/50000 [==============================] - 2s 33us/sample - loss: 1.0634 - acc: 0.6388 - val_loss: 1.4615 - val_acc: 0.4883\n",
            "Epoch 21/50\n",
            "50000/50000 [==============================] - 2s 32us/sample - loss: 1.0417 - acc: 0.6469 - val_loss: 1.4421 - val_acc: 0.5006\n",
            "Epoch 22/50\n",
            "50000/50000 [==============================] - 2s 33us/sample - loss: 1.0208 - acc: 0.6546 - val_loss: 1.4539 - val_acc: 0.4944\n",
            "Epoch 23/50\n",
            "50000/50000 [==============================] - 2s 33us/sample - loss: 1.0002 - acc: 0.6634 - val_loss: 1.4449 - val_acc: 0.4999\n",
            "Epoch 24/50\n",
            "50000/50000 [==============================] - 2s 33us/sample - loss: 0.9791 - acc: 0.6719 - val_loss: 1.4541 - val_acc: 0.4970\n",
            "Epoch 25/50\n",
            "50000/50000 [==============================] - 2s 33us/sample - loss: 0.9584 - acc: 0.6793 - val_loss: 1.4663 - val_acc: 0.4956\n",
            "Epoch 26/50\n",
            "50000/50000 [==============================] - 2s 33us/sample - loss: 0.9392 - acc: 0.6866 - val_loss: 1.4669 - val_acc: 0.4930\n",
            "Epoch 00026: early stopping\n"
          ],
          "name": "stdout"
        }
      ]
    },
    {
      "cell_type": "code",
      "metadata": {
        "id": "hJRbQ09CMfiy",
        "colab_type": "code",
        "colab": {
          "base_uri": "https://localhost:8080/",
          "height": 545
        },
        "outputId": "db1a1f0e-1554-468e-8177-bf13a074509e"
      },
      "source": [
        "import matplotlib.pyplot as plt\n",
        "%matplotlib inline\n",
        "\n",
        "plt.plot(range(len(train_loss)), train_loss, label=\"train loss\")\n",
        "plt.plot(range(len(valid_loss)), valid_loss, label=\"valid loss\")\n",
        "plt.legend()\n",
        "plt.title(\"Loss\")\n",
        "plt.show()\n",
        "\n",
        "plt.plot(range(len(train_acc)), train_acc, label=\"train accuracy\")\n",
        "plt.plot(range(len(valid_acc)), valid_acc, label=\"valid accuracy\")\n",
        "plt.legend()\n",
        "plt.title(\"Accuracy\")\n",
        "plt.show()"
      ],
      "execution_count": 12,
      "outputs": [
        {
          "output_type": "display_data",
          "data": {
            "image/png": "[encoded data removed]",
            "text/plain": [
              "<Figure size 432x288 with 1 Axes>"
            ]
          },
          "metadata": {
            "tags": []
          }
        },
        {
          "output_type": "display_data",
          "data": {
            "image/png": "[encoded data removed]",
            "text/plain": [
              "<Figure size 432x288 with 1 Axes>"
            ]
          },
          "metadata": {
            "tags": []
          }
        }
      ]
    },
    {
      "cell_type": "markdown",
      "metadata": {
        "id": "dHsooTWcMfi0",
        "colab_type": "text"
      },
      "source": [
        "## 調整 earlystop 的等待次數至 10, 25 並比較結果"
      ]
    },
    {
      "cell_type": "markdown",
      "metadata": {
        "id": "2yFot2TrMfi1",
        "colab_type": "text"
      },
      "source": [
        "## patience=10"
      ]
    },
    {
      "cell_type": "code",
      "metadata": {
        "id": "I9qp-MWAMfi2",
        "colab_type": "code",
        "colab": {}
      },
      "source": [
        "\"\"\"\n",
        "# 試改變 monitor \"Validation Accuracy\" 並比較結果\n",
        "\"\"\"\n",
        "from tensorflow.keras.callbacks import EarlyStopping\n",
        "\n",
        "earlystop = EarlyStopping(monitor=\"val_loss\", \n",
        "                          patience=10, \n",
        "                          verbose=1\n",
        "                          )"
      ],
      "execution_count": 0,
      "outputs": []
    },
    {
      "cell_type": "code",
      "metadata": {
        "scrolled": true,
        "id": "aS3YhIvFMfi4",
        "colab_type": "code",
        "colab": {
          "base_uri": "https://localhost:8080/",
          "height": 1000
        },
        "outputId": "a7cd0667-3eb7-47cd-a225-a08c76698fa1"
      },
      "source": [
        "model = build_mlp(input_shape=x_train.shape[1:])\n",
        "model.summary()\n",
        "optimizer = keras.optimizers.SGD(lr=LEARNING_RATE, nesterov=True, momentum=MOMENTUM)\n",
        "model.compile(loss=\"categorical_crossentropy\", metrics=[\"accuracy\"], optimizer=optimizer)\n",
        "\n",
        "model.fit(x_train, y_train, \n",
        "          epochs=EPOCHS, \n",
        "          batch_size=BATCH_SIZE, \n",
        "          validation_data=(x_test, y_test), \n",
        "          shuffle=True,\n",
        "          callbacks=[earlystop]\n",
        "         )\n",
        "\n",
        "# Collect results\n",
        "train_loss = model.history.history[\"loss\"]\n",
        "valid_loss = model.history.history[\"val_loss\"]\n",
        "train_acc = model.history.history[\"acc\"]\n",
        "valid_acc = model.history.history[\"val_acc\"]"
      ],
      "execution_count": 14,
      "outputs": [
        {
          "output_type": "stream",
          "text": [
            "Model: \"model_2\"\n",
            "_________________________________________________________________\n",
            "Layer (type)                 Output Shape              Param #   \n",
            "=================================================================\n",
            "input_3 (InputLayer)         [(None, 3072)]            0         \n",
            "_________________________________________________________________\n",
            "hidden_layer1 (Dense)        (None, 512)               1573376   \n",
            "_________________________________________________________________\n",
            "batch_normalization_6 (Batch (None, 512)               2048      \n",
            "_________________________________________________________________\n",
            "hidden_layer2 (Dense)        (None, 256)               131328    \n",
            "_________________________________________________________________\n",
            "batch_normalization_7 (Batch (None, 256)               1024      \n",
            "_________________________________________________________________\n",
            "hidden_layer3 (Dense)        (None, 128)               32896     \n",
            "_________________________________________________________________\n",
            "batch_normalization_8 (Batch (None, 128)               512       \n",
            "_________________________________________________________________\n",
            "output (Dense)               (None, 10)                1290      \n",
            "=================================================================\n",
            "Total params: 1,742,474\n",
            "Trainable params: 1,740,682\n",
            "Non-trainable params: 1,792\n",
            "_________________________________________________________________\n",
            "Train on 50000 samples, validate on 10000 samples\n",
            "Epoch 1/50\n",
            "50000/50000 [==============================] - 2s 41us/sample - loss: 2.2344 - acc: 0.2707 - val_loss: 2.1396 - val_acc: 0.2057\n",
            "Epoch 2/50\n",
            "50000/50000 [==============================] - 2s 33us/sample - loss: 1.7479 - acc: 0.3934 - val_loss: 1.9534 - val_acc: 0.3076\n",
            "Epoch 3/50\n",
            "50000/50000 [==============================] - 2s 33us/sample - loss: 1.6210 - acc: 0.4320 - val_loss: 1.8055 - val_acc: 0.3807\n",
            "Epoch 4/50\n",
            "50000/50000 [==============================] - 2s 33us/sample - loss: 1.5479 - acc: 0.4576 - val_loss: 1.7057 - val_acc: 0.4058\n",
            "Epoch 5/50\n",
            "50000/50000 [==============================] - 2s 33us/sample - loss: 1.4928 - acc: 0.4778 - val_loss: 1.6238 - val_acc: 0.4336\n",
            "Epoch 6/50\n",
            "50000/50000 [==============================] - 2s 33us/sample - loss: 1.4466 - acc: 0.4929 - val_loss: 1.5750 - val_acc: 0.4510\n",
            "Epoch 7/50\n",
            "50000/50000 [==============================] - 2s 33us/sample - loss: 1.4078 - acc: 0.5073 - val_loss: 1.5339 - val_acc: 0.4598\n",
            "Epoch 8/50\n",
            "50000/50000 [==============================] - 2s 32us/sample - loss: 1.3746 - acc: 0.5211 - val_loss: 1.5311 - val_acc: 0.4625\n",
            "Epoch 9/50\n",
            "50000/50000 [==============================] - 2s 33us/sample - loss: 1.3432 - acc: 0.5336 - val_loss: 1.5066 - val_acc: 0.4644\n",
            "Epoch 10/50\n",
            "50000/50000 [==============================] - 2s 33us/sample - loss: 1.3146 - acc: 0.5416 - val_loss: 1.4893 - val_acc: 0.4713\n",
            "Epoch 11/50\n",
            "50000/50000 [==============================] - 2s 32us/sample - loss: 1.2859 - acc: 0.5528 - val_loss: 1.4789 - val_acc: 0.4798\n",
            "Epoch 12/50\n",
            "50000/50000 [==============================] - 2s 33us/sample - loss: 1.2610 - acc: 0.5616 - val_loss: 1.4701 - val_acc: 0.4812\n",
            "Epoch 13/50\n",
            "50000/50000 [==============================] - 2s 33us/sample - loss: 1.2345 - acc: 0.5726 - val_loss: 1.4650 - val_acc: 0.4859\n",
            "Epoch 14/50\n",
            "50000/50000 [==============================] - 2s 33us/sample - loss: 1.2097 - acc: 0.5821 - val_loss: 1.4562 - val_acc: 0.4854\n",
            "Epoch 15/50\n",
            "50000/50000 [==============================] - 2s 33us/sample - loss: 1.1866 - acc: 0.5899 - val_loss: 1.4503 - val_acc: 0.4916\n",
            "Epoch 16/50\n",
            "50000/50000 [==============================] - 2s 33us/sample - loss: 1.1631 - acc: 0.5993 - val_loss: 1.4558 - val_acc: 0.4885\n",
            "Epoch 17/50\n",
            "50000/50000 [==============================] - 2s 33us/sample - loss: 1.1417 - acc: 0.6081 - val_loss: 1.4480 - val_acc: 0.4907\n",
            "Epoch 18/50\n",
            "50000/50000 [==============================] - 2s 32us/sample - loss: 1.1184 - acc: 0.6160 - val_loss: 1.4406 - val_acc: 0.4957\n",
            "Epoch 19/50\n",
            "50000/50000 [==============================] - 2s 32us/sample - loss: 1.0967 - acc: 0.6251 - val_loss: 1.4432 - val_acc: 0.4944\n",
            "Epoch 20/50\n",
            "50000/50000 [==============================] - 2s 33us/sample - loss: 1.0762 - acc: 0.6331 - val_loss: 1.4498 - val_acc: 0.4906\n",
            "Epoch 21/50\n",
            "50000/50000 [==============================] - 2s 32us/sample - loss: 1.0543 - acc: 0.6390 - val_loss: 1.4486 - val_acc: 0.4965\n",
            "Epoch 22/50\n",
            "50000/50000 [==============================] - 2s 33us/sample - loss: 1.0316 - acc: 0.6480 - val_loss: 1.4475 - val_acc: 0.4971\n",
            "Epoch 23/50\n",
            "50000/50000 [==============================] - 2s 33us/sample - loss: 1.0114 - acc: 0.6558 - val_loss: 1.4567 - val_acc: 0.4977\n",
            "Epoch 24/50\n",
            "50000/50000 [==============================] - 2s 33us/sample - loss: 0.9920 - acc: 0.6634 - val_loss: 1.4510 - val_acc: 0.4990\n",
            "Epoch 25/50\n",
            "50000/50000 [==============================] - 2s 33us/sample - loss: 0.9704 - acc: 0.6702 - val_loss: 1.4535 - val_acc: 0.4996\n",
            "Epoch 26/50\n",
            "50000/50000 [==============================] - 2s 32us/sample - loss: 0.9506 - acc: 0.6800 - val_loss: 1.4601 - val_acc: 0.4980\n",
            "Epoch 27/50\n",
            "50000/50000 [==============================] - 2s 32us/sample - loss: 0.9314 - acc: 0.6869 - val_loss: 1.4645 - val_acc: 0.4969\n",
            "Epoch 28/50\n",
            "50000/50000 [==============================] - 2s 32us/sample - loss: 0.9116 - acc: 0.6952 - val_loss: 1.4688 - val_acc: 0.4933\n",
            "Epoch 00028: early stopping\n"
          ],
          "name": "stdout"
        }
      ]
    },
    {
      "cell_type": "code",
      "metadata": {
        "id": "xGkqzfGgMfi8",
        "colab_type": "code",
        "colab": {
          "base_uri": "https://localhost:8080/",
          "height": 545
        },
        "outputId": "be539bab-67f4-45af-bb0e-3fbff27a48d5"
      },
      "source": [
        "import matplotlib.pyplot as plt\n",
        "%matplotlib inline\n",
        "\n",
        "plt.plot(range(len(train_loss)), train_loss, label=\"train loss\")\n",
        "plt.plot(range(len(valid_loss)), valid_loss, label=\"valid loss\")\n",
        "plt.legend()\n",
        "plt.title(\"Loss\")\n",
        "plt.show()\n",
        "\n",
        "plt.plot(range(len(train_acc)), train_acc, label=\"train accuracy\")\n",
        "plt.plot(range(len(valid_acc)), valid_acc, label=\"valid accuracy\")\n",
        "plt.legend()\n",
        "plt.title(\"Accuracy\")\n",
        "plt.show()"
      ],
      "execution_count": 15,
      "outputs": [
        {
          "output_type": "display_data",
          "data": {
            "image/png": "[encoded data removed]",
            "text/plain": [
              "<Figure size 432x288 with 1 Axes>"
            ]
          },
          "metadata": {
            "tags": []
          }
        },
        {
          "output_type": "display_data",
          "data": {
            "image/png": "[encoded data removed]",
            "text/plain": [
              "<Figure size 432x288 with 1 Axes>"
            ]
          },
          "metadata": {
            "tags": []
          }
        }
      ]
    },
    {
      "cell_type": "markdown",
      "metadata": {
        "id": "_kXQqEQJMfi9",
        "colab_type": "text"
      },
      "source": [
        "## patience=25"
      ]
    },
    {
      "cell_type": "code",
      "metadata": {
        "id": "9wzPJJU2Mfi-",
        "colab_type": "code",
        "colab": {}
      },
      "source": [
        "\"\"\"\n",
        "# 試改變 monitor \"Validation Accuracy\" 並比較結果\n",
        "\"\"\"\n",
        "from tensorflow.keras.callbacks import EarlyStopping\n",
        "\n",
        "earlystop = EarlyStopping(monitor=\"val_loss\", \n",
        "                          patience=25, \n",
        "                          verbose=1\n",
        "                          )"
      ],
      "execution_count": 0,
      "outputs": []
    },
    {
      "cell_type": "code",
      "metadata": {
        "scrolled": true,
        "id": "2ANVNpqwMfjA",
        "colab_type": "code",
        "colab": {
          "base_uri": "https://localhost:8080/",
          "height": 1000
        },
        "outputId": "4e4bdc49-bf07-410f-f287-8effeac0e9e7"
      },
      "source": [
        "model = build_mlp(input_shape=x_train.shape[1:])\n",
        "model.summary()\n",
        "optimizer = keras.optimizers.SGD(lr=LEARNING_RATE, nesterov=True, momentum=MOMENTUM)\n",
        "model.compile(loss=\"categorical_crossentropy\", metrics=[\"accuracy\"], optimizer=optimizer)\n",
        "\n",
        "model.fit(x_train, y_train, \n",
        "          epochs=EPOCHS, \n",
        "          batch_size=BATCH_SIZE, \n",
        "          validation_data=(x_test, y_test), \n",
        "          shuffle=True,\n",
        "          callbacks=[earlystop]\n",
        "         )\n",
        "\n",
        "# Collect results\n",
        "train_loss = model.history.history[\"loss\"]\n",
        "valid_loss = model.history.history[\"val_loss\"]\n",
        "train_acc = model.history.history[\"acc\"]\n",
        "valid_acc = model.history.history[\"val_acc\"]"
      ],
      "execution_count": 17,
      "outputs": [
        {
          "output_type": "stream",
          "text": [
            "Model: \"model_3\"\n",
            "_________________________________________________________________\n",
            "Layer (type)                 Output Shape              Param #   \n",
            "=================================================================\n",
            "input_4 (InputLayer)         [(None, 3072)]            0         \n",
            "_________________________________________________________________\n",
            "hidden_layer1 (Dense)        (None, 512)               1573376   \n",
            "_________________________________________________________________\n",
            "batch_normalization_9 (Batch (None, 512)               2048      \n",
            "_________________________________________________________________\n",
            "hidden_layer2 (Dense)        (None, 256)               131328    \n",
            "_________________________________________________________________\n",
            "batch_normalization_10 (Batc (None, 256)               1024      \n",
            "_________________________________________________________________\n",
            "hidden_layer3 (Dense)        (None, 128)               32896     \n",
            "_________________________________________________________________\n",
            "batch_normalization_11 (Batc (None, 128)               512       \n",
            "_________________________________________________________________\n",
            "output (Dense)               (None, 10)                1290      \n",
            "=================================================================\n",
            "Total params: 1,742,474\n",
            "Trainable params: 1,740,682\n",
            "Non-trainable params: 1,792\n",
            "_________________________________________________________________\n",
            "Train on 50000 samples, validate on 10000 samples\n",
            "Epoch 1/50\n",
            "50000/50000 [==============================] - 2s 42us/sample - loss: 2.2281 - acc: 0.2686 - val_loss: 2.1223 - val_acc: 0.2063\n",
            "Epoch 2/50\n",
            "50000/50000 [==============================] - 2s 33us/sample - loss: 1.7533 - acc: 0.3923 - val_loss: 1.9777 - val_acc: 0.2932\n",
            "Epoch 3/50\n",
            "50000/50000 [==============================] - 2s 32us/sample - loss: 1.6276 - acc: 0.4329 - val_loss: 1.8412 - val_acc: 0.3539\n",
            "Epoch 4/50\n",
            "50000/50000 [==============================] - 2s 33us/sample - loss: 1.5513 - acc: 0.4612 - val_loss: 1.7335 - val_acc: 0.3992\n",
            "Epoch 5/50\n",
            "50000/50000 [==============================] - 2s 32us/sample - loss: 1.4963 - acc: 0.4794 - val_loss: 1.6636 - val_acc: 0.4179\n",
            "Epoch 6/50\n",
            "50000/50000 [==============================] - 2s 33us/sample - loss: 1.4482 - acc: 0.4967 - val_loss: 1.5918 - val_acc: 0.4403\n",
            "Epoch 7/50\n",
            "50000/50000 [==============================] - 2s 33us/sample - loss: 1.4066 - acc: 0.5121 - val_loss: 1.5550 - val_acc: 0.4571\n",
            "Epoch 8/50\n",
            "50000/50000 [==============================] - 2s 32us/sample - loss: 1.3720 - acc: 0.5239 - val_loss: 1.5363 - val_acc: 0.4605\n",
            "Epoch 9/50\n",
            "50000/50000 [==============================] - 2s 33us/sample - loss: 1.3390 - acc: 0.5370 - val_loss: 1.5078 - val_acc: 0.4705\n",
            "Epoch 10/50\n",
            "50000/50000 [==============================] - 2s 32us/sample - loss: 1.3063 - acc: 0.5494 - val_loss: 1.5056 - val_acc: 0.4660\n",
            "Epoch 11/50\n",
            "50000/50000 [==============================] - 2s 33us/sample - loss: 1.2784 - acc: 0.5568 - val_loss: 1.4894 - val_acc: 0.4774\n",
            "Epoch 12/50\n",
            "50000/50000 [==============================] - 2s 33us/sample - loss: 1.2503 - acc: 0.5688 - val_loss: 1.4733 - val_acc: 0.4802\n",
            "Epoch 13/50\n",
            "50000/50000 [==============================] - 2s 33us/sample - loss: 1.2242 - acc: 0.5779 - val_loss: 1.4795 - val_acc: 0.4826\n",
            "Epoch 14/50\n",
            "50000/50000 [==============================] - 2s 33us/sample - loss: 1.1987 - acc: 0.5870 - val_loss: 1.4737 - val_acc: 0.4849\n",
            "Epoch 15/50\n",
            "50000/50000 [==============================] - 2s 33us/sample - loss: 1.1750 - acc: 0.5979 - val_loss: 1.4632 - val_acc: 0.4884\n",
            "Epoch 16/50\n",
            "50000/50000 [==============================] - 2s 33us/sample - loss: 1.1493 - acc: 0.6070 - val_loss: 1.4590 - val_acc: 0.4925\n",
            "Epoch 17/50\n",
            "50000/50000 [==============================] - 2s 33us/sample - loss: 1.1263 - acc: 0.6144 - val_loss: 1.4605 - val_acc: 0.4894\n",
            "Epoch 18/50\n",
            "50000/50000 [==============================] - 2s 33us/sample - loss: 1.1039 - acc: 0.6229 - val_loss: 1.4487 - val_acc: 0.4928\n",
            "Epoch 19/50\n",
            "50000/50000 [==============================] - 2s 33us/sample - loss: 1.0822 - acc: 0.6319 - val_loss: 1.4622 - val_acc: 0.4904\n",
            "Epoch 20/50\n",
            "50000/50000 [==============================] - 2s 33us/sample - loss: 1.0609 - acc: 0.6403 - val_loss: 1.4607 - val_acc: 0.4920\n",
            "Epoch 21/50\n",
            "50000/50000 [==============================] - 2s 33us/sample - loss: 1.0382 - acc: 0.6463 - val_loss: 1.4504 - val_acc: 0.4990\n",
            "Epoch 22/50\n",
            "50000/50000 [==============================] - 2s 33us/sample - loss: 1.0158 - acc: 0.6562 - val_loss: 1.4502 - val_acc: 0.4965\n",
            "Epoch 23/50\n",
            "50000/50000 [==============================] - 2s 33us/sample - loss: 0.9951 - acc: 0.6658 - val_loss: 1.4598 - val_acc: 0.4920\n",
            "Epoch 24/50\n",
            "50000/50000 [==============================] - 2s 33us/sample - loss: 0.9729 - acc: 0.6735 - val_loss: 1.4707 - val_acc: 0.4891\n",
            "Epoch 25/50\n",
            "50000/50000 [==============================] - 2s 32us/sample - loss: 0.9535 - acc: 0.6810 - val_loss: 1.4637 - val_acc: 0.4989\n",
            "Epoch 26/50\n",
            "50000/50000 [==============================] - 2s 33us/sample - loss: 0.9322 - acc: 0.6885 - val_loss: 1.4598 - val_acc: 0.4959\n",
            "Epoch 27/50\n",
            "50000/50000 [==============================] - 2s 33us/sample - loss: 0.9106 - acc: 0.6978 - val_loss: 1.4640 - val_acc: 0.4998\n",
            "Epoch 28/50\n",
            "50000/50000 [==============================] - 2s 33us/sample - loss: 0.8918 - acc: 0.7043 - val_loss: 1.4765 - val_acc: 0.5012\n",
            "Epoch 29/50\n",
            "50000/50000 [==============================] - 2s 33us/sample - loss: 0.8728 - acc: 0.7122 - val_loss: 1.4855 - val_acc: 0.4909\n",
            "Epoch 30/50\n",
            "50000/50000 [==============================] - 2s 33us/sample - loss: 0.8508 - acc: 0.7205 - val_loss: 1.4959 - val_acc: 0.4924\n",
            "Epoch 31/50\n",
            "50000/50000 [==============================] - 2s 33us/sample - loss: 0.8314 - acc: 0.7284 - val_loss: 1.4735 - val_acc: 0.5014\n",
            "Epoch 32/50\n",
            "50000/50000 [==============================] - 2s 32us/sample - loss: 0.8133 - acc: 0.7365 - val_loss: 1.5139 - val_acc: 0.4930\n",
            "Epoch 33/50\n",
            "50000/50000 [==============================] - 2s 32us/sample - loss: 0.7932 - acc: 0.7423 - val_loss: 1.5011 - val_acc: 0.4946\n",
            "Epoch 34/50\n",
            "50000/50000 [==============================] - 2s 33us/sample - loss: 0.7745 - acc: 0.7504 - val_loss: 1.5095 - val_acc: 0.4962\n",
            "Epoch 35/50\n",
            "50000/50000 [==============================] - 2s 32us/sample - loss: 0.7549 - acc: 0.7589 - val_loss: 1.5198 - val_acc: 0.4940\n",
            "Epoch 36/50\n",
            "50000/50000 [==============================] - 2s 32us/sample - loss: 0.7358 - acc: 0.7664 - val_loss: 1.5191 - val_acc: 0.4976\n",
            "Epoch 37/50\n",
            "50000/50000 [==============================] - 2s 32us/sample - loss: 0.7161 - acc: 0.7736 - val_loss: 1.5309 - val_acc: 0.4896\n",
            "Epoch 38/50\n",
            "50000/50000 [==============================] - 2s 33us/sample - loss: 0.6991 - acc: 0.7791 - val_loss: 1.5343 - val_acc: 0.5044\n",
            "Epoch 39/50\n",
            "50000/50000 [==============================] - 2s 33us/sample - loss: 0.6803 - acc: 0.7872 - val_loss: 1.5433 - val_acc: 0.4950\n",
            "Epoch 40/50\n",
            "50000/50000 [==============================] - 2s 33us/sample - loss: 0.6616 - acc: 0.7959 - val_loss: 1.5437 - val_acc: 0.4971\n",
            "Epoch 41/50\n",
            "50000/50000 [==============================] - 2s 32us/sample - loss: 0.6411 - acc: 0.8036 - val_loss: 1.5820 - val_acc: 0.4940\n",
            "Epoch 42/50\n",
            "50000/50000 [==============================] - 2s 33us/sample - loss: 0.6237 - acc: 0.8121 - val_loss: 1.5776 - val_acc: 0.4994\n",
            "Epoch 43/50\n",
            "50000/50000 [==============================] - 2s 33us/sample - loss: 0.6070 - acc: 0.8170 - val_loss: 1.5810 - val_acc: 0.4948\n",
            "Epoch 00043: early stopping\n"
          ],
          "name": "stdout"
        }
      ]
    },
    {
      "cell_type": "code",
      "metadata": {
        "id": "2A4rZwdLMfjL",
        "colab_type": "code",
        "colab": {
          "base_uri": "https://localhost:8080/",
          "height": 545
        },
        "outputId": "ecc9df53-11af-4531-c32c-983243d4f859"
      },
      "source": [
        "import matplotlib.pyplot as plt\n",
        "%matplotlib inline\n",
        "\n",
        "plt.plot(range(len(train_loss)), train_loss, label=\"train loss\")\n",
        "plt.plot(range(len(valid_loss)), valid_loss, label=\"valid loss\")\n",
        "plt.legend()\n",
        "plt.title(\"Loss\")\n",
        "plt.show()\n",
        "\n",
        "plt.plot(range(len(train_acc)), train_acc, label=\"train accuracy\")\n",
        "plt.plot(range(len(valid_acc)), valid_acc, label=\"valid accuracy\")\n",
        "plt.legend()\n",
        "plt.title(\"Accuracy\")\n",
        "plt.show()"
      ],
      "execution_count": 18,
      "outputs": [
        {
          "output_type": "display_data",
          "data": {
            "image/png": "[encoded data removed]",
            "text/plain": [
              "<Figure size 432x288 with 1 Axes>"
            ]
          },
          "metadata": {
            "tags": []
          }
        },
        {
          "output_type": "display_data",
          "data": {
            "image/png": "[encoded data removed]",
            "text/plain": [
              "<Figure size 432x288 with 1 Axes>"
            ]
          },
          "metadata": {
            "tags": []
          }
        }
      ]
    }
  ]
}