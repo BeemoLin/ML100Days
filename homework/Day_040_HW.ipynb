{
 "cells": [
  {
   "cell_type": "markdown",
   "metadata": {},
   "source": [
    "## [作業重點]\n",
    "使用 Sklearn 中的 Lasso, Ridge 模型，來訓練各種資料集，務必了解送進去模型訓練的**資料型態**為何，也請了解模型中各項參數的意義。\n",
    "\n",
    "機器學習的模型非常多種，但要訓練的資料多半有固定的格式，確保你了解訓練資料的格式為何，這樣在應用新模型時，就能夠最快的上手開始訓練！"
   ]
  },
  {
   "cell_type": "markdown",
   "metadata": {},
   "source": [
    "## 練習時間\n",
    "試著使用 sklearn datasets 的其他資料集 (boston, ...)，來訓練自己的線性迴歸模型，並加上適當的正則化來觀察訓練情形。"
   ]
  },
  {
   "cell_type": "code",
   "execution_count": 1,
   "metadata": {},
   "outputs": [],
   "source": [
    "from sklearn import datasets, linear_model\n",
    "from sklearn import model_selection,metrics"
   ]
  },
  {
   "cell_type": "code",
   "execution_count": 2,
   "metadata": {},
   "outputs": [],
   "source": [
    "boston=datasets.load_boston()\n",
    "x_train,x_test,y_train,y_test=model_selection.train_test_split(boston.data, \\\n",
    "                             boston.target,test_size=0.2,random_state=0)\n"
   ]
  },
  {
   "cell_type": "code",
   "execution_count": 3,
   "metadata": {},
   "outputs": [
    {
     "name": "stdout",
     "output_type": "stream",
     "text": [
      "r2_score using LinearRegression :\n",
      "0.5892\n"
     ]
    }
   ],
   "source": [
    "regr=linear_model.LinearRegression()\n",
    "regr.fit(x_train,y_train)\n",
    "y_pred=regr.predict(x_test)\n",
    "print('r2_score using LinearRegression :\\n%.4f' % metrics.r2_score(y_test,y_pred))"
   ]
  },
  {
   "cell_type": "code",
   "execution_count": 4,
   "metadata": {},
   "outputs": [
    {
     "name": "stdout",
     "output_type": "stream",
     "text": [
      "r2_score using Lasso with alpha 0.01:\n",
      "0.5850\n",
      "\n",
      "r2_score using Lasso with alpha 0.10:\n",
      "0.5570\n",
      "\n",
      "r2_score using Lasso with alpha 0.50:\n",
      "0.5357\n",
      "\n",
      "r2_score using Lasso with alpha 1.00:\n",
      "0.4879\n",
      "\n",
      "r2_score using Lasso with alpha 5.00:\n",
      "0.3827\n",
      "\n"
     ]
    }
   ],
   "source": [
    "alpha_arr=[0.01,0.1,0.5,1,5]\n",
    "for alpha in alpha_arr:\n",
    "    lasso=linear_model.Lasso(alpha=alpha)\n",
    "    lasso.fit(x_train,y_train)\n",
    "    y_pred=lasso.predict(x_test)\n",
    "    print('r2_score using Lasso with alpha %.2f:\\n%.4f\\n'%(alpha,metrics.r2_score(y_test,y_pred)))"
   ]
  },
  {
   "cell_type": "code",
   "execution_count": 5,
   "metadata": {},
   "outputs": [
    {
     "name": "stdout",
     "output_type": "stream",
     "text": [
      "r2_score using Ridge with alpha 0.01:\n",
      "0.5891\n",
      "\n",
      "r2_score using Ridge with alpha 0.10:\n",
      "0.5880\n",
      "\n",
      "r2_score using Ridge with alpha 0.50:\n",
      "0.5836\n",
      "\n",
      "r2_score using Ridge with alpha 1.00:\n",
      "0.5796\n",
      "\n",
      "r2_score using Ridge with alpha 5.00:\n",
      "0.5680\n",
      "\n"
     ]
    }
   ],
   "source": [
    "alpha_arr=[0.01,0.1,0.5,1,5]\n",
    "for alpha in alpha_arr:\n",
    "    ridge=linear_model.Ridge(alpha=alpha)\n",
    "    ridge.fit(x_train,y_train)\n",
    "    y_pred=ridge.predict(x_test)\n",
    "    print('r2_score using Ridge with alpha %.2f:\\n%.4f\\n'%(alpha,metrics.r2_score(y_test,y_pred)))"
   ]
  },
  {
   "cell_type": "code",
   "execution_count": null,
   "metadata": {},
   "outputs": [],
   "source": []
  }
 ],
 "metadata": {
  "kernelspec": {
   "display_name": "Python 3",
   "language": "python",
   "name": "python3"
  },
  "language_info": {
   "codemirror_mode": {
    "name": "ipython",
    "version": 3
   },
   "file_extension": ".py",
   "mimetype": "text/x-python",
   "name": "python",
   "nbconvert_exporter": "python",
   "pygments_lexer": "ipython3",
   "version": "3.7.3"
  }
 },
 "nbformat": 4,
 "nbformat_minor": 2
}
