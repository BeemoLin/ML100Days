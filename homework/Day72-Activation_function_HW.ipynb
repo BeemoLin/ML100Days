{
 "cells": [
  {
   "cell_type": "markdown",
   "metadata": {},
   "source": [
    "# 作業目標:\n",
    "    寫出 ReLU & dReLU 一階導數\n",
    "    並列印\n"
   ]
  },
  {
   "cell_type": "markdown",
   "metadata": {},
   "source": [
    "# 作業重點\n",
    "\n",
    "# Rectified Linear Unit- Relu \n",
    "\n",
    "f(x)=max(0,x)\n"
   ]
  },
  {
   "cell_type": "code",
   "execution_count": 21,
   "metadata": {},
   "outputs": [
    {
     "name": "stdout",
     "output_type": "stream",
     "text": [
      "[ 0.          0.          0.          0.          0.          0.\n",
      "  0.          0.          0.          0.          0.          0.\n",
      "  0.          0.          0.          0.          0.          0.\n",
      "  0.          0.          0.          0.          0.          0.\n",
      "  0.          0.          0.          0.          0.          0.\n",
      "  0.          0.          0.          0.          0.          0.\n",
      "  0.          0.          0.          0.          0.          0.\n",
      "  0.          0.          0.          0.          0.          0.\n",
      "  0.          0.          0.1010101   0.3030303   0.50505051  0.70707071\n",
      "  0.90909091  1.11111111  1.31313131  1.51515152  1.71717172  1.91919192\n",
      "  2.12121212  2.32323232  2.52525253  2.72727273  2.92929293  3.13131313\n",
      "  3.33333333  3.53535354  3.73737374  3.93939394  4.14141414  4.34343434\n",
      "  4.54545455  4.74747475  4.94949495  5.15151515  5.35353535  5.55555556\n",
      "  5.75757576  5.95959596  6.16161616  6.36363636  6.56565657  6.76767677\n",
      "  6.96969697  7.17171717  7.37373737  7.57575758  7.77777778  7.97979798\n",
      "  8.18181818  8.38383838  8.58585859  8.78787879  8.98989899  9.19191919\n",
      "  9.39393939  9.5959596   9.7979798  10.        ]\n"
     ]
    },
    {
     "data": {
      "image/png": "[encoded data removed]",
      "text/plain": [
       "<Figure size 432x288 with 1 Axes>"
      ]
     },
     "metadata": {
      "needs_background": "light"
     },
     "output_type": "display_data"
    }
   ],
   "source": [
    "import numpy as np\n",
    "from numpy import *\n",
    "import matplotlib.pylab as plt\n",
    "%matplotlib inline\n",
    "\n",
    "'''\n",
    "作業:\n",
    "    寫出 ReLU & dReLU 一階導數\n",
    "    並列印\n",
    "'''\n",
    "#ReLU 數學函數表示方式\n",
    "def Relu(x):\n",
    "    return abs(x) * (x > 0)\n",
    "def dRelu(x):\n",
    "    return (1 * (x > 0))\n",
    "\n",
    "x = linspace(-10,10,100)\n",
    "plt.plot(x, Relu(x), 'r')\n",
    "plt.plot(x, dRelu(x), 'b')\n",
    "plt.grid()\n",
    "plt.title('ReLU & dReLU')\n",
    "plt.text(0, 9, r'$f(x) = (abs(x) * (x > 0))$', fontsize = 15)\n",
    "plt.gca().xaxis.set_major_locator(plt.MultipleLocator(1))\n",
    "\n",
    "#列印所有 Relu 值並輸出成一陣列\n",
    "print(Relu(x))\n",
    "plt.plot(x, Relu(x), 'r')\n",
    "plt.show()"
   ]
  },
  {
   "cell_type": "code",
   "execution_count": null,
   "metadata": {},
   "outputs": [],
   "source": []
  }
 ],
 "metadata": {
  "kernelspec": {
   "display_name": "Python 3",
   "language": "python",
   "name": "python3"
  },
  "language_info": {
   "codemirror_mode": {
    "name": "ipython",
    "version": 3
   },
   "file_extension": ".py",
   "mimetype": "text/x-python",
   "name": "python",
   "nbconvert_exporter": "python",
   "pygments_lexer": "ipython3",
   "version": "3.7.3"
  }
 },
 "nbformat": 4,
 "nbformat_minor": 2
}
