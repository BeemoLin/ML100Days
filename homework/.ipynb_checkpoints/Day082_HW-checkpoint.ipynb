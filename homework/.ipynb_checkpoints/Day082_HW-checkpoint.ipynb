{
 "cells": [
  {
   "cell_type": "markdown",
   "metadata": {},
   "source": [
    "## Work\n",
    "1. 請比較使用不同層數以及不同 Dropout rate 對訓練的效果\n",
    "2. 將 optimizer 改成使用 Adam 並加上適當的 dropout rate 檢視結果"
   ]
  },
  {
   "cell_type": "code",
   "execution_count": 3,
   "metadata": {},
   "outputs": [],
   "source": [
    "import os\n",
    "import tensorflow.keras as keras\n",
    "import itertools\n",
    "# Disable GPU\n",
    "os.environ[\"CUDA_VISIBLE_DEVICES\"] = \"\""
   ]
  },
  {
   "cell_type": "code",
   "execution_count": 4,
   "metadata": {},
   "outputs": [
    {
     "name": "stdout",
     "output_type": "stream",
     "text": [
      "Downloading data from https://www.cs.toronto.edu/~kriz/cifar-10-python.tar.gz\n",
      "170500096/170498071 [==============================] - 80s 0us/step\n"
     ]
    }
   ],
   "source": [
    "train, test = keras.datasets.cifar10.load_data()"
   ]
  },
  {
   "cell_type": "code",
   "execution_count": 5,
   "metadata": {},
   "outputs": [],
   "source": [
    "## 資料前處理\n",
    "def preproc_x(x, flatten=True):\n",
    "    x = x / 255.\n",
    "    if flatten:\n",
    "        x = x.reshape((len(x), -1))\n",
    "    return x\n",
    "\n",
    "def preproc_y(y, num_classes=10):\n",
    "    if y.shape[-1] == 1:\n",
    "        y = keras.utils.to_categorical(y, num_classes)\n",
    "    return y    "
   ]
  },
  {
   "cell_type": "code",
   "execution_count": 6,
   "metadata": {},
   "outputs": [],
   "source": [
    "x_train, y_train = train\n",
    "x_test, y_test = test\n",
    "\n",
    "# Preproc the inputs\n",
    "x_train = preproc_x(x_train)\n",
    "x_test = preproc_x(x_test)\n",
    "\n",
    "# Preprc the outputs\n",
    "y_train = preproc_y(y_train)\n",
    "y_test = preproc_y(y_test)"
   ]
  },
  {
   "cell_type": "code",
   "execution_count": 8,
   "metadata": {},
   "outputs": [],
   "source": [
    "from tensorflow.keras.layers import Dropout\n",
    "\"\"\"\n",
    "建立神經網路，並加入 dropout layer\n",
    "\"\"\"\n",
    "def build_mlp(input_shape, output_units=10, num_neurons=[512, 256, 128], drp_ratio=0.2):\n",
    "    input_layer = keras.layers.Input(input_shape)\n",
    "    \n",
    "    for i, n_units in enumerate(num_neurons):\n",
    "        if i == 0:\n",
    "            x = keras.layers.Dense(units=n_units, \n",
    "                                   activation=\"relu\", \n",
    "                                   name=\"hidden_layer\"+str(i+1))(input_layer)\n",
    "            x = Dropout(drp_ratio)(x)\n",
    "        else:\n",
    "            x = keras.layers.Dense(units=n_units, \n",
    "                                   activation=\"relu\", \n",
    "                                   name=\"hidden_layer\"+str(i+1))(x)\n",
    "            x = Dropout(drp_ratio)(x)\n",
    "    \n",
    "    out = keras.layers.Dense(units=output_units, activation=\"softmax\", name=\"output\")(x)\n",
    "    \n",
    "    model = keras.models.Model(inputs=[input_layer], outputs=[out])\n",
    "    return model"
   ]
  },
  {
   "cell_type": "code",
   "execution_count": 9,
   "metadata": {},
   "outputs": [],
   "source": [
    "## 超參數設定\n",
    "LEARNING_RATE = 1e-3\n",
    "EPOCHS = 50\n",
    "BATCH_SIZE = 256\n",
    "MOMENTUM = 0.95\n",
    "Dropout_EXP = 0.25"
   ]
  },
  {
   "cell_type": "code",
   "execution_count": 10,
   "metadata": {
    "scrolled": true
   },
   "outputs": [
    {
     "name": "stdout",
     "output_type": "stream",
     "text": [
      "Model: \"model\"\n",
      "_________________________________________________________________\n",
      "Layer (type)                 Output Shape              Param #   \n",
      "=================================================================\n",
      "input_1 (InputLayer)         [(None, 3072)]            0         \n",
      "_________________________________________________________________\n",
      "hidden_layer1 (Dense)        (None, 512)               1573376   \n",
      "_________________________________________________________________\n",
      "dropout (Dropout)            (None, 512)               0         \n",
      "_________________________________________________________________\n",
      "hidden_layer2 (Dense)        (None, 256)               131328    \n",
      "_________________________________________________________________\n",
      "dropout_1 (Dropout)          (None, 256)               0         \n",
      "_________________________________________________________________\n",
      "hidden_layer3 (Dense)        (None, 128)               32896     \n",
      "_________________________________________________________________\n",
      "dropout_2 (Dropout)          (None, 128)               0         \n",
      "_________________________________________________________________\n",
      "output (Dense)               (None, 10)                1290      \n",
      "=================================================================\n",
      "Total params: 1,738,890\n",
      "Trainable params: 1,738,890\n",
      "Non-trainable params: 0\n",
      "_________________________________________________________________\n",
      "Train on 50000 samples, validate on 10000 samples\n",
      "Epoch 1/50\n",
      "50000/50000 [==============================] - 4s 73us/sample - loss: 2.0552 - accuracy: 0.2419 - val_loss: 1.8729 - val_accuracy: 0.3204\n",
      "Epoch 2/50\n",
      "50000/50000 [==============================] - 3s 58us/sample - loss: 1.8789 - accuracy: 0.3173 - val_loss: 1.7623 - val_accuracy: 0.3688\n",
      "Epoch 3/50\n",
      "50000/50000 [==============================] - 3s 58us/sample - loss: 1.8235 - accuracy: 0.3432 - val_loss: 1.7447 - val_accuracy: 0.3763\n",
      "Epoch 4/50\n",
      "50000/50000 [==============================] - 3s 59us/sample - loss: 1.7809 - accuracy: 0.3597 - val_loss: 1.6796 - val_accuracy: 0.3972\n",
      "Epoch 5/50\n",
      "50000/50000 [==============================] - 3s 56us/sample - loss: 1.7516 - accuracy: 0.3680 - val_loss: 1.6587 - val_accuracy: 0.4179\n",
      "Epoch 6/50\n",
      "50000/50000 [==============================] - 3s 58us/sample - loss: 1.7284 - accuracy: 0.3751 - val_loss: 1.6335 - val_accuracy: 0.4146\n",
      "Epoch 7/50\n",
      "50000/50000 [==============================] - 3s 57us/sample - loss: 1.7060 - accuracy: 0.3855 - val_loss: 1.5922 - val_accuracy: 0.4296\n",
      "Epoch 8/50\n",
      "50000/50000 [==============================] - 3s 59us/sample - loss: 1.6886 - accuracy: 0.3905 - val_loss: 1.6107 - val_accuracy: 0.4192\n",
      "Epoch 9/50\n",
      "50000/50000 [==============================] - 3s 60us/sample - loss: 1.6922 - accuracy: 0.3913 - val_loss: 1.5703 - val_accuracy: 0.4390\n",
      "Epoch 10/50\n",
      "50000/50000 [==============================] - 3s 55us/sample - loss: 1.6585 - accuracy: 0.4016 - val_loss: 1.5799 - val_accuracy: 0.4356\n",
      "Epoch 11/50\n",
      "50000/50000 [==============================] - 3s 57us/sample - loss: 1.6526 - accuracy: 0.4044 - val_loss: 1.5893 - val_accuracy: 0.4302\n",
      "Epoch 12/50\n",
      "50000/50000 [==============================] - 3s 60us/sample - loss: 1.6374 - accuracy: 0.4090 - val_loss: 1.5654 - val_accuracy: 0.4423\n",
      "Epoch 13/50\n",
      "50000/50000 [==============================] - 3s 58us/sample - loss: 1.6406 - accuracy: 0.4076 - val_loss: 1.5731 - val_accuracy: 0.4383\n",
      "Epoch 14/50\n",
      "50000/50000 [==============================] - 3s 57us/sample - loss: 1.6266 - accuracy: 0.4146 - val_loss: 1.5409 - val_accuracy: 0.4552\n",
      "Epoch 15/50\n",
      "50000/50000 [==============================] - 3s 57us/sample - loss: 1.6144 - accuracy: 0.4195 - val_loss: 1.5532 - val_accuracy: 0.4420\n",
      "Epoch 16/50\n",
      "50000/50000 [==============================] - 3s 57us/sample - loss: 1.5998 - accuracy: 0.4241 - val_loss: 1.5407 - val_accuracy: 0.4586\n",
      "Epoch 17/50\n",
      "50000/50000 [==============================] - 3s 56us/sample - loss: 1.5985 - accuracy: 0.4243 - val_loss: 1.5316 - val_accuracy: 0.4560\n",
      "Epoch 18/50\n",
      "50000/50000 [==============================] - 3s 57us/sample - loss: 1.5923 - accuracy: 0.4241 - val_loss: 1.5056 - val_accuracy: 0.4715\n",
      "Epoch 19/50\n",
      "50000/50000 [==============================] - 3s 55us/sample - loss: 1.5853 - accuracy: 0.4269 - val_loss: 1.5207 - val_accuracy: 0.4609\n",
      "Epoch 20/50\n",
      "50000/50000 [==============================] - 3s 60us/sample - loss: 1.5833 - accuracy: 0.4299 - val_loss: 1.5332 - val_accuracy: 0.4532\n",
      "Epoch 21/50\n",
      "50000/50000 [==============================] - 3s 57us/sample - loss: 1.5815 - accuracy: 0.4313 - val_loss: 1.4895 - val_accuracy: 0.4658\n",
      "Epoch 22/50\n",
      "50000/50000 [==============================] - 3s 58us/sample - loss: 1.5706 - accuracy: 0.4361 - val_loss: 1.5071 - val_accuracy: 0.4625\n",
      "Epoch 23/50\n",
      "50000/50000 [==============================] - 3s 57us/sample - loss: 1.5604 - accuracy: 0.4407 - val_loss: 1.5065 - val_accuracy: 0.4634\n",
      "Epoch 24/50\n",
      "50000/50000 [==============================] - 3s 56us/sample - loss: 1.5612 - accuracy: 0.4361 - val_loss: 1.4937 - val_accuracy: 0.4701\n",
      "Epoch 25/50\n",
      "50000/50000 [==============================] - 3s 58us/sample - loss: 1.5479 - accuracy: 0.4413 - val_loss: 1.5181 - val_accuracy: 0.4674\n",
      "Epoch 26/50\n",
      "50000/50000 [==============================] - 3s 57us/sample - loss: 1.5409 - accuracy: 0.4475 - val_loss: 1.4912 - val_accuracy: 0.4731\n",
      "Epoch 27/50\n",
      "50000/50000 [==============================] - 3s 56us/sample - loss: 1.5457 - accuracy: 0.4448 - val_loss: 1.5119 - val_accuracy: 0.4605\n",
      "Epoch 28/50\n",
      "50000/50000 [==============================] - 3s 58us/sample - loss: 1.5444 - accuracy: 0.4451 - val_loss: 1.4617 - val_accuracy: 0.4783\n",
      "Epoch 29/50\n",
      "50000/50000 [==============================] - 3s 58us/sample - loss: 1.5329 - accuracy: 0.4482 - val_loss: 1.4774 - val_accuracy: 0.4793\n",
      "Epoch 30/50\n",
      "50000/50000 [==============================] - 3s 59us/sample - loss: 1.5268 - accuracy: 0.4518 - val_loss: 1.4954 - val_accuracy: 0.4680\n",
      "Epoch 31/50\n",
      "50000/50000 [==============================] - 3s 55us/sample - loss: 1.5320 - accuracy: 0.4494 - val_loss: 1.4835 - val_accuracy: 0.4721\n",
      "Epoch 32/50\n",
      "50000/50000 [==============================] - 3s 57us/sample - loss: 1.5178 - accuracy: 0.4562 - val_loss: 1.4610 - val_accuracy: 0.4820\n",
      "Epoch 33/50\n",
      "50000/50000 [==============================] - 3s 58us/sample - loss: 1.5181 - accuracy: 0.4557 - val_loss: 1.4675 - val_accuracy: 0.4779\n",
      "Epoch 34/50\n",
      "50000/50000 [==============================] - 3s 59us/sample - loss: 1.5178 - accuracy: 0.4545 - val_loss: 1.4636 - val_accuracy: 0.4857\n",
      "Epoch 35/50\n",
      "50000/50000 [==============================] - 3s 57us/sample - loss: 1.5111 - accuracy: 0.4541 - val_loss: 1.4628 - val_accuracy: 0.4818\n",
      "Epoch 36/50\n",
      "50000/50000 [==============================] - 3s 57us/sample - loss: 1.5087 - accuracy: 0.4553 - val_loss: 1.4567 - val_accuracy: 0.4826\n",
      "Epoch 37/50\n",
      "50000/50000 [==============================] - 3s 56us/sample - loss: 1.4998 - accuracy: 0.4630 - val_loss: 1.4664 - val_accuracy: 0.4750\n",
      "Epoch 38/50\n",
      "50000/50000 [==============================] - 3s 57us/sample - loss: 1.4987 - accuracy: 0.4620 - val_loss: 1.4892 - val_accuracy: 0.4771\n",
      "Epoch 39/50\n",
      "50000/50000 [==============================] - 3s 59us/sample - loss: 1.5034 - accuracy: 0.4585 - val_loss: 1.4560 - val_accuracy: 0.4760\n",
      "Epoch 40/50\n",
      "50000/50000 [==============================] - 3s 56us/sample - loss: 1.4958 - accuracy: 0.4624 - val_loss: 1.4562 - val_accuracy: 0.4844\n",
      "Epoch 41/50\n",
      "50000/50000 [==============================] - 3s 57us/sample - loss: 1.4986 - accuracy: 0.4615 - val_loss: 1.4705 - val_accuracy: 0.4728\n",
      "Epoch 42/50\n",
      "50000/50000 [==============================] - 3s 57us/sample - loss: 1.4851 - accuracy: 0.4632 - val_loss: 1.4727 - val_accuracy: 0.4747\n",
      "Epoch 43/50\n",
      "50000/50000 [==============================] - 3s 58us/sample - loss: 1.4870 - accuracy: 0.4649 - val_loss: 1.4457 - val_accuracy: 0.4841\n",
      "Epoch 44/50\n",
      "50000/50000 [==============================] - 3s 58us/sample - loss: 1.4822 - accuracy: 0.4658 - val_loss: 1.4432 - val_accuracy: 0.4905\n",
      "Epoch 45/50\n",
      "50000/50000 [==============================] - 3s 56us/sample - loss: 1.4874 - accuracy: 0.4657 - val_loss: 1.4501 - val_accuracy: 0.4938\n"
     ]
    },
    {
     "name": "stdout",
     "output_type": "stream",
     "text": [
      "Epoch 46/50\n",
      "50000/50000 [==============================] - 3s 57us/sample - loss: 1.4740 - accuracy: 0.4691 - val_loss: 1.4258 - val_accuracy: 0.4947\n",
      "Epoch 47/50\n",
      "50000/50000 [==============================] - 3s 58us/sample - loss: 1.4752 - accuracy: 0.4680 - val_loss: 1.4468 - val_accuracy: 0.4896\n",
      "Epoch 48/50\n",
      "50000/50000 [==============================] - 3s 56us/sample - loss: 1.4738 - accuracy: 0.4714 - val_loss: 1.4494 - val_accuracy: 0.4877\n",
      "Epoch 49/50\n",
      "50000/50000 [==============================] - 3s 58us/sample - loss: 1.4668 - accuracy: 0.4731 - val_loss: 1.4252 - val_accuracy: 0.4921\n",
      "Epoch 50/50\n",
      "50000/50000 [==============================] - 3s 57us/sample - loss: 1.4638 - accuracy: 0.4743 - val_loss: 1.4261 - val_accuracy: 0.4960\n"
     ]
    }
   ],
   "source": [
    "results = {}\n",
    "\"\"\"Code Here\n",
    "撰寫你的訓練流程並將結果用 dictionary 紀錄\n",
    "\"\"\"\n",
    "model = build_mlp(input_shape=x_train.shape[1:], drp_ratio=Dropout_EXP)\n",
    "model.summary()\n",
    "optimizer = keras.optimizers.Adam(lr=LEARNING_RATE)\n",
    "model.compile(loss=\"categorical_crossentropy\", metrics=[\"accuracy\"], optimizer=optimizer)\n",
    "\n",
    "model.fit(x_train, y_train, \n",
    "          epochs=EPOCHS, \n",
    "          batch_size=BATCH_SIZE, \n",
    "          validation_data=(x_test, y_test), \n",
    "          shuffle=True)\n",
    "\n",
    "# Collect results\n",
    "train_loss = model.history.history[\"loss\"]\n",
    "valid_loss = model.history.history[\"val_loss\"]\n",
    "train_acc = model.history.history[\"accuracy\"]\n",
    "valid_acc = model.history.history[\"val_accuracy\"]"
   ]
  },
  {
   "cell_type": "code",
   "execution_count": 11,
   "metadata": {},
   "outputs": [
    {
     "data": {
      "image/png": "[encoded data removed]",
      "text/plain": [
       "<Figure size 432x288 with 1 Axes>"
      ]
     },
     "metadata": {
      "needs_background": "light"
     },
     "output_type": "display_data"
    },
    {
     "data": {
      "image/png": "[encoded data removed]",
      "text/plain": [
       "<Figure size 432x288 with 1 Axes>"
      ]
     },
     "metadata": {
      "needs_background": "light"
     },
     "output_type": "display_data"
    }
   ],
   "source": [
    "import matplotlib.pyplot as plt\n",
    "%matplotlib inline\n",
    "\"\"\"Code Here\n",
    "將結果繪出\n",
    "\"\"\"\n",
    "\n",
    "plt.plot(range(len(train_loss)), train_loss, label=\"train loss\")\n",
    "plt.plot(range(len(valid_loss)), valid_loss, label=\"valid loss\")\n",
    "plt.legend()\n",
    "plt.title(\"Loss\")\n",
    "plt.show()\n",
    "\n",
    "plt.plot(range(len(train_acc)), train_acc, label=\"train accuracy\")\n",
    "plt.plot(range(len(valid_acc)), valid_acc, label=\"valid accuracy\")\n",
    "plt.legend()\n",
    "plt.title(\"Accuracy\")\n",
    "plt.show()"
   ]
  }
 ],
 "metadata": {
  "kernelspec": {
   "display_name": "Python 3",
   "language": "python",
   "name": "python3"
  },
  "language_info": {
   "codemirror_mode": {
    "name": "ipython",
    "version": 3
   },
   "file_extension": ".py",
   "mimetype": "text/x-python",
   "name": "python",
   "nbconvert_exporter": "python",
   "pygments_lexer": "ipython3",
   "version": "3.6.8"
  }
 },
 "nbformat": 4,
 "nbformat_minor": 2
}
