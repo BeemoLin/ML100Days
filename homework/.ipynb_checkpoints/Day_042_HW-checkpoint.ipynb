{
 "cells": [
  {
   "cell_type": "markdown",
   "metadata": {},
   "source": [
    "## [作業重點]\n",
    "目前你應該已經要很清楚資料集中，資料的型態是什麼樣子囉！包含特徵 (features) 與標籤 (labels)。因此要記得未來不管什麼專案，必須要把資料清理成相同的格式，才能送進模型訓練。\n",
    "今天的作業開始踏入決策樹這個非常重要的模型，請務必確保你理解模型中每個超參數的意思，並試著調整看看，對最終預測結果的影響為何"
   ]
  },
  {
   "cell_type": "markdown",
   "metadata": {},
   "source": [
    "## 作業\n",
    "\n",
    "1. 試著調整 DecisionTreeClassifier(...) 中的參數，並觀察是否會改變結果？\n",
    "2. 改用其他資料集 (boston, wine)，並與回歸模型的結果進行比較"
   ]
  },
  {
   "cell_type": "code",
   "execution_count": 6,
   "metadata": {},
   "outputs": [],
   "source": [
    "import numpy as np\n",
    "from sklearn import datasets, metrics\n",
    "\n",
    "# 如果是分類問題，請使用 DecisionTreeClassifier，若為回歸問題，請使用 DecisionTreeRegressor\n",
    "from sklearn.tree import DecisionTreeClassifier, DecisionTreeRegressor\n",
    "from sklearn.model_selection import train_test_split\n",
    "from sklearn.metrics import mean_squared_error, r2_score, accuracy_score"
   ]
  },
  {
   "cell_type": "code",
   "execution_count": 7,
   "metadata": {
    "scrolled": true
   },
   "outputs": [],
   "source": [
    "# 讀取資料集\n",
    "wine = datasets.load_wine()"
   ]
  },
  {
   "cell_type": "code",
   "execution_count": 8,
   "metadata": {},
   "outputs": [
    {
     "name": "stdout",
     "output_type": "stream",
     "text": [
      "Data Shape =  (178, 13)\n",
      "Data Type =  float64\n",
      "Feature Shape =  13\n",
      "Kind of Targer =  3\n"
     ]
    }
   ],
   "source": [
    "X = wine.data\n",
    "Y = wine.target\n",
    "Y_Name = wine.target_names\n",
    "Feature_Name = wine.feature_names\n",
    "print(\"Data Shape = \", X.shape)\n",
    "print(\"Data Type = \", X.dtype)\n",
    "print(\"Feature Shape = \", len(Feature_Name))\n",
    "print(\"Kind of Targer = \", len(np.unique(Y)))"
   ]
  },
  {
   "cell_type": "code",
   "execution_count": 9,
   "metadata": {},
   "outputs": [],
   "source": [
    "# 切分訓練集/測試集\n",
    "x_train, x_test, y_train, y_test = train_test_split(X, Y, test_size=0.1, random_state=4)"
   ]
  },
  {
   "cell_type": "code",
   "execution_count": 10,
   "metadata": {},
   "outputs": [
    {
     "name": "stdout",
     "output_type": "stream",
     "text": [
      "Acuuracy_1:  0.9444444444444444\n",
      "Feature importance_1:  [0.02568066 0.04121587 0.01426703 0.         0.03658213 0.\n",
      " 0.07496358 0.         0.         0.31830386 0.         0.10178432\n",
      " 0.38720255]\n"
     ]
    }
   ],
   "source": [
    "# 建立模型\n",
    "tree_1 = DecisionTreeClassifier(criterion='gini', max_depth=None, min_samples_split=2, min_samples_leaf=1)\n",
    "tree_1.fit(x_train, y_train)\n",
    "tree_1_y_pred = tree_1.predict(x_test)\n",
    "tree_1_acc = metrics.accuracy_score(y_test, tree_1_y_pred)\n",
    "print(\"Acuuracy_1: \", tree_1_acc)\n",
    "print(\"Feature importance_1: \", tree_1.feature_importances_)"
   ]
  },
  {
   "cell_type": "code",
   "execution_count": 11,
   "metadata": {},
   "outputs": [
    {
     "name": "stdout",
     "output_type": "stream",
     "text": [
      "Acuuracy_2:  0.8888888888888888\n",
      "Feature importance_2:  [0.         0.         0.         0.         0.06678062 0.\n",
      " 0.40960689 0.         0.02750916 0.14738643 0.01296477 0.\n",
      " 0.33575213]\n"
     ]
    }
   ],
   "source": [
    "# 建立模型\n",
    "tree_2 = DecisionTreeClassifier(criterion='entropy', max_depth=None, min_samples_split=2, min_samples_leaf=1)\n",
    "tree_2.fit(x_train, y_train)\n",
    "tree_2_y_pred = tree_2.predict(x_test)\n",
    "tree_2_acc = metrics.accuracy_score(y_test, tree_2_y_pred)\n",
    "print(\"Acuuracy_2: \", tree_2_acc)\n",
    "print(\"Feature importance_2: \", tree_2.feature_importances_)"
   ]
  }
 ],
 "metadata": {
  "kernelspec": {
   "display_name": "Python 3",
   "language": "python",
   "name": "python3"
  },
  "language_info": {
   "codemirror_mode": {
    "name": "ipython",
    "version": 3
   },
   "file_extension": ".py",
   "mimetype": "text/x-python",
   "name": "python",
   "nbconvert_exporter": "python",
   "pygments_lexer": "ipython3",
   "version": "3.7.3"
  }
 },
 "nbformat": 4,
 "nbformat_minor": 2
}
